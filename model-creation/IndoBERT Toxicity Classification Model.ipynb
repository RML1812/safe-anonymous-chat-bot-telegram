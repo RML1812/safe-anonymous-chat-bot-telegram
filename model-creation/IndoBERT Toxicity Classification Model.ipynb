{
 "cells": [
  {
   "cell_type": "markdown",
   "metadata": {},
   "source": [
    "# IndoBERTweet Toxic Detection Model"
   ]
  },
  {
   "cell_type": "markdown",
   "metadata": {},
   "source": [
    "## Import Library"
   ]
  },
  {
   "cell_type": "code",
   "execution_count": 2,
   "metadata": {},
   "outputs": [
    {
     "name": "stderr",
     "output_type": "stream",
     "text": [
      "c:\\Users\\Radit1812\\Documents\\Kuliah\\Skripsi\\safe-anonymous-chat-bot-telegram\\.venv\\Lib\\site-packages\\tqdm\\auto.py:21: TqdmWarning: IProgress not found. Please update jupyter and ipywidgets. See https://ipywidgets.readthedocs.io/en/stable/user_install.html\n",
      "  from .autonotebook import tqdm as notebook_tqdm\n"
     ]
    }
   ],
   "source": [
    "import numpy as np\n",
    "import pandas as pd\n",
    "import pandas as pd\n",
    "import torch\n",
    "import numpy as np\n",
    "import matplotlib.pyplot as plt\n",
    "import re\n",
    "import seaborn as sns\n",
    "from sklearn.metrics import classification_report, hamming_loss, jaccard_score, f1_score, multilabel_confusion_matrix\n",
    "from sklearn.feature_extraction.text import TfidfVectorizer\n",
    "from sklearn.preprocessing import MultiLabelBinarizer\n",
    "from imblearn.over_sampling import SMOTE\n",
    "from iterstrat.ml_stratifiers import MultilabelStratifiedShuffleSplit\n",
    "from transformers import BertTokenizer, BertForSequenceClassification, AdamW, get_linear_schedule_with_warmup\n",
    "from torch.utils.data import DataLoader, TensorDataset\n",
    "from tabulate import tabulate\n",
    "from sklearn.decomposition import TruncatedSVD"
   ]
  },
  {
   "cell_type": "markdown",
   "metadata": {},
   "source": [
    "## Target Dataset Definition"
   ]
  },
  {
   "cell_type": "markdown",
   "metadata": {},
   "source": [
    "Hate Speech, Abusive Speech, SARA, Radicalism, Defamation"
   ]
  },
  {
   "cell_type": "code",
   "execution_count": 2,
   "metadata": {},
   "outputs": [
    {
     "data": {
      "text/html": [
       "<div>\n",
       "<style scoped>\n",
       "    .dataframe tbody tr th:only-of-type {\n",
       "        vertical-align: middle;\n",
       "    }\n",
       "\n",
       "    .dataframe tbody tr th {\n",
       "        vertical-align: top;\n",
       "    }\n",
       "\n",
       "    .dataframe thead th {\n",
       "        text-align: right;\n",
       "    }\n",
       "</style>\n",
       "<table border=\"1\" class=\"dataframe\">\n",
       "  <thead>\n",
       "    <tr style=\"text-align: right;\">\n",
       "      <th></th>\n",
       "      <th>Text</th>\n",
       "      <th>Hate Speech</th>\n",
       "      <th>Abusive Speech</th>\n",
       "      <th>SARA</th>\n",
       "      <th>Radicalism</th>\n",
       "      <th>Defamation</th>\n",
       "    </tr>\n",
       "  </thead>\n",
       "  <tbody>\n",
       "  </tbody>\n",
       "</table>\n",
       "</div>"
      ],
      "text/plain": [
       "Empty DataFrame\n",
       "Columns: [Text, Hate Speech, Abusive Speech, SARA, Radicalism, Defamation]\n",
       "Index: []"
      ]
     },
     "execution_count": 2,
     "metadata": {},
     "output_type": "execute_result"
    }
   ],
   "source": [
    "toxic_df = pd.DataFrame(columns=[\"Text\", \"Hate Speech\", \"Abusive Speech\", \"SARA\", \"Radicalism\", \"Defamation\"])\n",
    "toxic_df"
   ]
  },
  {
   "cell_type": "markdown",
   "metadata": {},
   "source": [
    "## Source Dataset Processing"
   ]
  },
  {
   "cell_type": "markdown",
   "metadata": {},
   "source": [
    "### Dataset : Netifier"
   ]
  },
  {
   "cell_type": "markdown",
   "metadata": {},
   "source": [
    "#### Init"
   ]
  },
  {
   "cell_type": "code",
   "execution_count": 3,
   "metadata": {},
   "outputs": [],
   "source": [
    "netifier_path = \"./data/netifier\""
   ]
  },
  {
   "cell_type": "code",
   "execution_count": 4,
   "metadata": {},
   "outputs": [],
   "source": [
    "netifier_train_path = netifier_path + \"/processed_train.csv\"\n",
    "netifier_test_path = netifier_path + \"/processed_test.csv\""
   ]
  },
  {
   "cell_type": "code",
   "execution_count": 5,
   "metadata": {},
   "outputs": [],
   "source": [
    "netifier_train = pd.read_csv(netifier_train_path)\n",
    "netifier_test = pd.read_csv(netifier_test_path)"
   ]
  },
  {
   "cell_type": "markdown",
   "metadata": {},
   "source": [
    "#### Assessment"
   ]
  },
  {
   "cell_type": "code",
   "execution_count": 6,
   "metadata": {},
   "outputs": [
    {
     "data": {
      "text/html": [
       "<div>\n",
       "<style scoped>\n",
       "    .dataframe tbody tr th:only-of-type {\n",
       "        vertical-align: middle;\n",
       "    }\n",
       "\n",
       "    .dataframe tbody tr th {\n",
       "        vertical-align: top;\n",
       "    }\n",
       "\n",
       "    .dataframe thead th {\n",
       "        text-align: right;\n",
       "    }\n",
       "</style>\n",
       "<table border=\"1\" class=\"dataframe\">\n",
       "  <thead>\n",
       "    <tr style=\"text-align: right;\">\n",
       "      <th></th>\n",
       "      <th>original_text</th>\n",
       "      <th>source</th>\n",
       "      <th>pornografi</th>\n",
       "      <th>sara</th>\n",
       "      <th>radikalisme</th>\n",
       "      <th>pencemaran_nama_baik</th>\n",
       "      <th>processed_text</th>\n",
       "    </tr>\n",
       "  </thead>\n",
       "  <tbody>\n",
       "    <tr>\n",
       "      <th>0</th>\n",
       "      <td>[QUOTE=jessepinkman16;5a50ac34d89b093f368b456e...</td>\n",
       "      <td>kaskus</td>\n",
       "      <td>0</td>\n",
       "      <td>0</td>\n",
       "      <td>0</td>\n",
       "      <td>1</td>\n",
       "      <td>jabar memang provinsi barokah boleh juga dan n...</td>\n",
       "    </tr>\n",
       "    <tr>\n",
       "      <th>1</th>\n",
       "      <td>@verosvante kita2 aja nitizen yang pada kepo,t...</td>\n",
       "      <td>instagram</td>\n",
       "      <td>0</td>\n",
       "      <td>0</td>\n",
       "      <td>0</td>\n",
       "      <td>0</td>\n",
       "      <td>kita saja nitizen yang pada penasaran toh kelu...</td>\n",
       "    </tr>\n",
       "    <tr>\n",
       "      <th>2</th>\n",
       "      <td>\"#SidangAhok smg sipenista agama n ateknya mat...</td>\n",
       "      <td>twitter</td>\n",
       "      <td>0</td>\n",
       "      <td>1</td>\n",
       "      <td>1</td>\n",
       "      <td>1</td>\n",
       "      <td>sidangahok semoga sipenista agama dan ateknya ...</td>\n",
       "    </tr>\n",
       "    <tr>\n",
       "      <th>3</th>\n",
       "      <td>@bolususulembang.jkt barusan baca undang2 ini....</td>\n",
       "      <td>instagram</td>\n",
       "      <td>0</td>\n",
       "      <td>0</td>\n",
       "      <td>0</td>\n",
       "      <td>0</td>\n",
       "      <td>jakarta barusan baca undang ini tetap dibedaka...</td>\n",
       "    </tr>\n",
       "    <tr>\n",
       "      <th>4</th>\n",
       "      <td>bikin anak mulu lu nof \\nkaga mikir apa kasian...</td>\n",
       "      <td>kaskus</td>\n",
       "      <td>0</td>\n",
       "      <td>0</td>\n",
       "      <td>0</td>\n",
       "      <td>0</td>\n",
       "      <td>buat anak melulu kamu nof nkaga mikir apa kasi...</td>\n",
       "    </tr>\n",
       "  </tbody>\n",
       "</table>\n",
       "</div>"
      ],
      "text/plain": [
       "                                       original_text     source  pornografi  \\\n",
       "0  [QUOTE=jessepinkman16;5a50ac34d89b093f368b456e...     kaskus           0   \n",
       "1  @verosvante kita2 aja nitizen yang pada kepo,t...  instagram           0   \n",
       "2  \"#SidangAhok smg sipenista agama n ateknya mat...    twitter           0   \n",
       "3  @bolususulembang.jkt barusan baca undang2 ini....  instagram           0   \n",
       "4  bikin anak mulu lu nof \\nkaga mikir apa kasian...     kaskus           0   \n",
       "\n",
       "   sara  radikalisme  pencemaran_nama_baik  \\\n",
       "0     0            0                     1   \n",
       "1     0            0                     0   \n",
       "2     1            1                     1   \n",
       "3     0            0                     0   \n",
       "4     0            0                     0   \n",
       "\n",
       "                                      processed_text  \n",
       "0  jabar memang provinsi barokah boleh juga dan n...  \n",
       "1  kita saja nitizen yang pada penasaran toh kelu...  \n",
       "2  sidangahok semoga sipenista agama dan ateknya ...  \n",
       "3  jakarta barusan baca undang ini tetap dibedaka...  \n",
       "4  buat anak melulu kamu nof nkaga mikir apa kasi...  "
      ]
     },
     "execution_count": 6,
     "metadata": {},
     "output_type": "execute_result"
    }
   ],
   "source": [
    "netifier_train.head()"
   ]
  },
  {
   "cell_type": "code",
   "execution_count": 7,
   "metadata": {},
   "outputs": [
    {
     "data": {
      "text/html": [
       "<div>\n",
       "<style scoped>\n",
       "    .dataframe tbody tr th:only-of-type {\n",
       "        vertical-align: middle;\n",
       "    }\n",
       "\n",
       "    .dataframe tbody tr th {\n",
       "        vertical-align: top;\n",
       "    }\n",
       "\n",
       "    .dataframe thead th {\n",
       "        text-align: right;\n",
       "    }\n",
       "</style>\n",
       "<table border=\"1\" class=\"dataframe\">\n",
       "  <thead>\n",
       "    <tr style=\"text-align: right;\">\n",
       "      <th></th>\n",
       "      <th>original_text</th>\n",
       "      <th>source</th>\n",
       "      <th>pornografi</th>\n",
       "      <th>sara</th>\n",
       "      <th>radikalisme</th>\n",
       "      <th>pencemaran_nama_baik</th>\n",
       "      <th>processed_text</th>\n",
       "    </tr>\n",
       "  </thead>\n",
       "  <tbody>\n",
       "    <tr>\n",
       "      <th>0</th>\n",
       "      <td>1.BUKAN CM SPANDUK PROF,VIDEO2 ORASI MEREKA, B...</td>\n",
       "      <td>twitter</td>\n",
       "      <td>0</td>\n",
       "      <td>0</td>\n",
       "      <td>1</td>\n",
       "      <td>0</td>\n",
       "      <td>bukan hanya spanduk prof video orasi mereka bu...</td>\n",
       "    </tr>\n",
       "    <tr>\n",
       "      <th>1</th>\n",
       "      <td>@memeqbeceq gy sange'gatel yh tetek'memekY drn...</td>\n",
       "      <td>twitter</td>\n",
       "      <td>1</td>\n",
       "      <td>0</td>\n",
       "      <td>0</td>\n",
       "      <td>0</td>\n",
       "      <td>gy sange gatel yh tetek memeky drnjng tempat t...</td>\n",
       "    </tr>\n",
       "    <tr>\n",
       "      <th>2</th>\n",
       "      <td>Pertama kali denger lagunya enk bgt in dan png...</td>\n",
       "      <td>instagram</td>\n",
       "      <td>0</td>\n",
       "      <td>0</td>\n",
       "      <td>0</td>\n",
       "      <td>0</td>\n",
       "      <td>pertama kali denger lagunya enk sekali in dan ...</td>\n",
       "    </tr>\n",
       "    <tr>\n",
       "      <th>3</th>\n",
       "      <td>astajim, ini pasti yg kasih penghargaan ke ibu...</td>\n",
       "      <td>kaskus</td>\n",
       "      <td>0</td>\n",
       "      <td>0</td>\n",
       "      <td>0</td>\n",
       "      <td>0</td>\n",
       "      <td>astajim ini pasti yang kasih penghargan ke ibu...</td>\n",
       "    </tr>\n",
       "    <tr>\n",
       "      <th>4</th>\n",
       "      <td>beda kalo disini kalo komplain lgs di bully am...</td>\n",
       "      <td>kaskus</td>\n",
       "      <td>0</td>\n",
       "      <td>0</td>\n",
       "      <td>0</td>\n",
       "      <td>0</td>\n",
       "      <td>beda kalau di sini kalau keluhan langsung di b...</td>\n",
       "    </tr>\n",
       "  </tbody>\n",
       "</table>\n",
       "</div>"
      ],
      "text/plain": [
       "                                       original_text     source  pornografi  \\\n",
       "0  1.BUKAN CM SPANDUK PROF,VIDEO2 ORASI MEREKA, B...    twitter           0   \n",
       "1  @memeqbeceq gy sange'gatel yh tetek'memekY drn...    twitter           1   \n",
       "2  Pertama kali denger lagunya enk bgt in dan png...  instagram           0   \n",
       "3  astajim, ini pasti yg kasih penghargaan ke ibu...     kaskus           0   \n",
       "4  beda kalo disini kalo komplain lgs di bully am...     kaskus           0   \n",
       "\n",
       "   sara  radikalisme  pencemaran_nama_baik  \\\n",
       "0     0            1                     0   \n",
       "1     0            0                     0   \n",
       "2     0            0                     0   \n",
       "3     0            0                     0   \n",
       "4     0            0                     0   \n",
       "\n",
       "                                      processed_text  \n",
       "0  bukan hanya spanduk prof video orasi mereka bu...  \n",
       "1  gy sange gatel yh tetek memeky drnjng tempat t...  \n",
       "2  pertama kali denger lagunya enk sekali in dan ...  \n",
       "3  astajim ini pasti yang kasih penghargan ke ibu...  \n",
       "4  beda kalau di sini kalau keluhan langsung di b...  "
      ]
     },
     "execution_count": 7,
     "metadata": {},
     "output_type": "execute_result"
    }
   ],
   "source": [
    "netifier_test.head()"
   ]
  },
  {
   "cell_type": "code",
   "execution_count": 8,
   "metadata": {},
   "outputs": [
    {
     "name": "stdout",
     "output_type": "stream",
     "text": [
      "<class 'pandas.core.frame.DataFrame'>\n",
      "RangeIndex: 6995 entries, 0 to 6994\n",
      "Data columns (total 7 columns):\n",
      " #   Column                Non-Null Count  Dtype \n",
      "---  ------                --------------  ----- \n",
      " 0   original_text         6995 non-null   object\n",
      " 1   source                6995 non-null   object\n",
      " 2   pornografi            6995 non-null   int64 \n",
      " 3   sara                  6995 non-null   int64 \n",
      " 4   radikalisme           6995 non-null   int64 \n",
      " 5   pencemaran_nama_baik  6995 non-null   int64 \n",
      " 6   processed_text        6995 non-null   object\n",
      "dtypes: int64(4), object(3)\n",
      "memory usage: 382.7+ KB\n"
     ]
    }
   ],
   "source": [
    "netifier_train.info()"
   ]
  },
  {
   "cell_type": "code",
   "execution_count": 9,
   "metadata": {},
   "outputs": [
    {
     "name": "stdout",
     "output_type": "stream",
     "text": [
      "<class 'pandas.core.frame.DataFrame'>\n",
      "RangeIndex: 778 entries, 0 to 777\n",
      "Data columns (total 7 columns):\n",
      " #   Column                Non-Null Count  Dtype \n",
      "---  ------                --------------  ----- \n",
      " 0   original_text         778 non-null    object\n",
      " 1   source                778 non-null    object\n",
      " 2   pornografi            778 non-null    int64 \n",
      " 3   sara                  778 non-null    int64 \n",
      " 4   radikalisme           778 non-null    int64 \n",
      " 5   pencemaran_nama_baik  778 non-null    int64 \n",
      " 6   processed_text        778 non-null    object\n",
      "dtypes: int64(4), object(3)\n",
      "memory usage: 42.7+ KB\n"
     ]
    }
   ],
   "source": [
    "netifier_test.info()"
   ]
  },
  {
   "cell_type": "markdown",
   "metadata": {},
   "source": [
    "#### Preprocessing"
   ]
  },
  {
   "cell_type": "markdown",
   "metadata": {},
   "source": [
    "**Preprocessed:**\n",
    "- Translate text-based emojis\n",
    "- Remove excessive newline\n",
    "- Remove kaskus formatting\n",
    "- Remove url\n",
    "- Remove excessive whitespace\n",
    "- Tokenize text\n",
    "- Transform slang words\n",
    "- Remove non aplhabet\n",
    "- Remove twitter & instagram formatting\n",
    "- Remove Repeating Characters\n",
    "\n",
    "Conclusion: *clean enough, recommend to use stemming and stopword*"
   ]
  },
  {
   "cell_type": "markdown",
   "metadata": {},
   "source": [
    "Hate Speech (subcategories: HS_Individual, HS_Group, HS_Religion, HS_Race, HS_Physical, HS_Gender, HS_Other)\n",
    "Abusive Speech (subcategories: HS_Weak, HS_Moderate, HS_Strong)\n",
    "SARA (covering sara, HS_Religion, HS_Race, HS_Group)\n",
    "Pornography (for pornografi)\n",
    "Radicalism (for radikalisme)\n",
    "Defamation (for HS_Individual, pencemaran_nama_baik)"
   ]
  },
  {
   "cell_type": "code",
   "execution_count": 10,
   "metadata": {},
   "outputs": [
    {
     "name": "stdout",
     "output_type": "stream",
     "text": [
      "<class 'pandas.core.frame.DataFrame'>\n",
      "RangeIndex: 6995 entries, 0 to 6994\n",
      "Data columns (total 6 columns):\n",
      " #   Column          Non-Null Count  Dtype \n",
      "---  ------          --------------  ----- \n",
      " 0   Text            6995 non-null   object\n",
      " 1   Hate Speech     6995 non-null   object\n",
      " 2   Abusive Speech  6995 non-null   object\n",
      " 3   SARA            6995 non-null   object\n",
      " 4   Radicalism      6995 non-null   object\n",
      " 5   Defamation      6995 non-null   object\n",
      "dtypes: object(6)\n",
      "memory usage: 328.0+ KB\n"
     ]
    }
   ],
   "source": [
    "new_data = {\n",
    "    'Text': netifier_train['processed_text'],\n",
    "    'SARA': netifier_train['sara'],\n",
    "    'Radicalism': netifier_train['radikalisme'],\n",
    "    'Defamation': netifier_train['pencemaran_nama_baik'],\n",
    "    'Hate Speech': netifier_train[['sara', 'radikalisme', 'pencemaran_nama_baik']].max(axis=1),\n",
    "    'Abusive Speech': netifier_train['pornografi']\n",
    "}\n",
    "\n",
    "new_df = pd.DataFrame(new_data)\n",
    "toxic_df = pd.concat([toxic_df, new_df], ignore_index=True)\n",
    "\n",
    "toxic_df.info()"
   ]
  },
  {
   "cell_type": "code",
   "execution_count": 11,
   "metadata": {},
   "outputs": [
    {
     "name": "stdout",
     "output_type": "stream",
     "text": [
      "<class 'pandas.core.frame.DataFrame'>\n",
      "RangeIndex: 7773 entries, 0 to 7772\n",
      "Data columns (total 6 columns):\n",
      " #   Column          Non-Null Count  Dtype \n",
      "---  ------          --------------  ----- \n",
      " 0   Text            7773 non-null   object\n",
      " 1   Hate Speech     7773 non-null   object\n",
      " 2   Abusive Speech  7773 non-null   object\n",
      " 3   SARA            7773 non-null   object\n",
      " 4   Radicalism      7773 non-null   object\n",
      " 5   Defamation      7773 non-null   object\n",
      "dtypes: object(6)\n",
      "memory usage: 364.5+ KB\n"
     ]
    }
   ],
   "source": [
    "new_data = {\n",
    "    'Text': netifier_test['processed_text'],\n",
    "    'SARA': netifier_test['sara'],\n",
    "    'Radicalism': netifier_test['radikalisme'],\n",
    "    'Defamation': netifier_test['pencemaran_nama_baik'],\n",
    "    'Hate Speech': netifier_test[['sara', 'radikalisme', 'pencemaran_nama_baik']].max(axis=1),\n",
    "    'Abusive Speech': netifier_test['pornografi']\n",
    "}\n",
    "\n",
    "new_df = pd.DataFrame(new_data)\n",
    "toxic_df = pd.concat([toxic_df, new_df], ignore_index=True)\n",
    "\n",
    "toxic_df.info()\n"
   ]
  },
  {
   "cell_type": "markdown",
   "metadata": {},
   "source": [
    "### Dataset : okkyibrahim"
   ]
  },
  {
   "cell_type": "markdown",
   "metadata": {},
   "source": [
    "#### Init"
   ]
  },
  {
   "cell_type": "code",
   "execution_count": 12,
   "metadata": {},
   "outputs": [],
   "source": [
    "okkyibrahim_path = \"./data/okkyibrahim/preprocessed_indonesian_toxic_tweet.csv\""
   ]
  },
  {
   "cell_type": "markdown",
   "metadata": {},
   "source": [
    "#### Assessment"
   ]
  },
  {
   "cell_type": "code",
   "execution_count": 13,
   "metadata": {},
   "outputs": [
    {
     "data": {
      "text/html": [
       "<div>\n",
       "<style scoped>\n",
       "    .dataframe tbody tr th:only-of-type {\n",
       "        vertical-align: middle;\n",
       "    }\n",
       "\n",
       "    .dataframe tbody tr th {\n",
       "        vertical-align: top;\n",
       "    }\n",
       "\n",
       "    .dataframe thead th {\n",
       "        text-align: right;\n",
       "    }\n",
       "</style>\n",
       "<table border=\"1\" class=\"dataframe\">\n",
       "  <thead>\n",
       "    <tr style=\"text-align: right;\">\n",
       "      <th></th>\n",
       "      <th>Tweet</th>\n",
       "      <th>HS</th>\n",
       "      <th>Abusive</th>\n",
       "      <th>HS_Individual</th>\n",
       "      <th>HS_Group</th>\n",
       "      <th>HS_Religion</th>\n",
       "      <th>HS_Race</th>\n",
       "      <th>HS_Physical</th>\n",
       "      <th>HS_Gender</th>\n",
       "      <th>HS_Other</th>\n",
       "      <th>HS_Weak</th>\n",
       "      <th>HS_Moderate</th>\n",
       "      <th>HS_Strong</th>\n",
       "    </tr>\n",
       "  </thead>\n",
       "  <tbody>\n",
       "    <tr>\n",
       "      <th>0</th>\n",
       "      <td>cowok usaha lacak perhati gue lantas remeh per...</td>\n",
       "      <td>1</td>\n",
       "      <td>1</td>\n",
       "      <td>1</td>\n",
       "      <td>0</td>\n",
       "      <td>0</td>\n",
       "      <td>0</td>\n",
       "      <td>0</td>\n",
       "      <td>0</td>\n",
       "      <td>1</td>\n",
       "      <td>1</td>\n",
       "      <td>0</td>\n",
       "      <td>0</td>\n",
       "    </tr>\n",
       "    <tr>\n",
       "      <th>1</th>\n",
       "      <td>telat tau edan sarap gue gaul cigax jifla cal ...</td>\n",
       "      <td>0</td>\n",
       "      <td>1</td>\n",
       "      <td>0</td>\n",
       "      <td>0</td>\n",
       "      <td>0</td>\n",
       "      <td>0</td>\n",
       "      <td>0</td>\n",
       "      <td>0</td>\n",
       "      <td>0</td>\n",
       "      <td>0</td>\n",
       "      <td>0</td>\n",
       "      <td>0</td>\n",
       "    </tr>\n",
       "    <tr>\n",
       "      <th>2</th>\n",
       "      <td>41 kadang pikir percaya tuhan jatuh kali kali ...</td>\n",
       "      <td>0</td>\n",
       "      <td>0</td>\n",
       "      <td>0</td>\n",
       "      <td>0</td>\n",
       "      <td>0</td>\n",
       "      <td>0</td>\n",
       "      <td>0</td>\n",
       "      <td>0</td>\n",
       "      <td>0</td>\n",
       "      <td>0</td>\n",
       "      <td>0</td>\n",
       "      <td>0</td>\n",
       "    </tr>\n",
       "    <tr>\n",
       "      <th>3</th>\n",
       "      <td>ku tau mata sipit lihat</td>\n",
       "      <td>0</td>\n",
       "      <td>0</td>\n",
       "      <td>0</td>\n",
       "      <td>0</td>\n",
       "      <td>0</td>\n",
       "      <td>0</td>\n",
       "      <td>0</td>\n",
       "      <td>0</td>\n",
       "      <td>0</td>\n",
       "      <td>0</td>\n",
       "      <td>0</td>\n",
       "      <td>0</td>\n",
       "    </tr>\n",
       "    <tr>\n",
       "      <th>4</th>\n",
       "      <td>kaum cebong kafir lihat dongok dungu haha</td>\n",
       "      <td>1</td>\n",
       "      <td>1</td>\n",
       "      <td>0</td>\n",
       "      <td>1</td>\n",
       "      <td>1</td>\n",
       "      <td>0</td>\n",
       "      <td>0</td>\n",
       "      <td>0</td>\n",
       "      <td>0</td>\n",
       "      <td>0</td>\n",
       "      <td>1</td>\n",
       "      <td>0</td>\n",
       "    </tr>\n",
       "  </tbody>\n",
       "</table>\n",
       "</div>"
      ],
      "text/plain": [
       "                                               Tweet  HS  Abusive  \\\n",
       "0  cowok usaha lacak perhati gue lantas remeh per...   1        1   \n",
       "1  telat tau edan sarap gue gaul cigax jifla cal ...   0        1   \n",
       "2  41 kadang pikir percaya tuhan jatuh kali kali ...   0        0   \n",
       "3                            ku tau mata sipit lihat   0        0   \n",
       "4          kaum cebong kafir lihat dongok dungu haha   1        1   \n",
       "\n",
       "   HS_Individual  HS_Group  HS_Religion  HS_Race  HS_Physical  HS_Gender  \\\n",
       "0              1         0            0        0            0          0   \n",
       "1              0         0            0        0            0          0   \n",
       "2              0         0            0        0            0          0   \n",
       "3              0         0            0        0            0          0   \n",
       "4              0         1            1        0            0          0   \n",
       "\n",
       "   HS_Other  HS_Weak  HS_Moderate  HS_Strong  \n",
       "0         1        1            0          0  \n",
       "1         0        0            0          0  \n",
       "2         0        0            0          0  \n",
       "3         0        0            0          0  \n",
       "4         0        0            1          0  "
      ]
     },
     "execution_count": 13,
     "metadata": {},
     "output_type": "execute_result"
    }
   ],
   "source": [
    "okkyibrahim = pd.read_csv(okkyibrahim_path)\n",
    "okkyibrahim.head()"
   ]
  },
  {
   "cell_type": "code",
   "execution_count": 14,
   "metadata": {},
   "outputs": [
    {
     "name": "stdout",
     "output_type": "stream",
     "text": [
      "<class 'pandas.core.frame.DataFrame'>\n",
      "RangeIndex: 13169 entries, 0 to 13168\n",
      "Data columns (total 13 columns):\n",
      " #   Column         Non-Null Count  Dtype \n",
      "---  ------         --------------  ----- \n",
      " 0   Tweet          13121 non-null  object\n",
      " 1   HS             13169 non-null  int64 \n",
      " 2   Abusive        13169 non-null  int64 \n",
      " 3   HS_Individual  13169 non-null  int64 \n",
      " 4   HS_Group       13169 non-null  int64 \n",
      " 5   HS_Religion    13169 non-null  int64 \n",
      " 6   HS_Race        13169 non-null  int64 \n",
      " 7   HS_Physical    13169 non-null  int64 \n",
      " 8   HS_Gender      13169 non-null  int64 \n",
      " 9   HS_Other       13169 non-null  int64 \n",
      " 10  HS_Weak        13169 non-null  int64 \n",
      " 11  HS_Moderate    13169 non-null  int64 \n",
      " 12  HS_Strong      13169 non-null  int64 \n",
      "dtypes: int64(12), object(1)\n",
      "memory usage: 1.3+ MB\n"
     ]
    }
   ],
   "source": [
    "okkyibrahim.info()"
   ]
  },
  {
   "cell_type": "code",
   "execution_count": 15,
   "metadata": {},
   "outputs": [
    {
     "name": "stdout",
     "output_type": "stream",
     "text": [
      "Number of NaN values present: 48\n"
     ]
    }
   ],
   "source": [
    "count_nan = okkyibrahim['Tweet'].isnull().sum()\n",
    "print('Number of NaN values present: ' + str(count_nan))"
   ]
  },
  {
   "cell_type": "markdown",
   "metadata": {},
   "source": [
    "#### Preprocessing"
   ]
  },
  {
   "cell_type": "markdown",
   "metadata": {},
   "source": [
    "**Preprocessed:**\n",
    "- Lower casing all text,\n",
    "- Data cleaning by removing unnecessary characters such as re-tweet symbol (RT), username, URL, and punctuation\n",
    "- Normalization using 'Alay' dictionary\n",
    "- Stemming using PySastrawi\n",
    "- Stop words removal using list\n",
    "\n",
    "Conclusion: *need to remove hexadecimal encoding, drop NaN*"
   ]
  },
  {
   "cell_type": "code",
   "execution_count": 16,
   "metadata": {},
   "outputs": [
    {
     "name": "stdout",
     "output_type": "stream",
     "text": [
      "<class 'pandas.core.frame.DataFrame'>\n",
      "Index: 13121 entries, 0 to 13168\n",
      "Data columns (total 13 columns):\n",
      " #   Column         Non-Null Count  Dtype \n",
      "---  ------         --------------  ----- \n",
      " 0   Tweet          13121 non-null  object\n",
      " 1   HS             13121 non-null  int64 \n",
      " 2   Abusive        13121 non-null  int64 \n",
      " 3   HS_Individual  13121 non-null  int64 \n",
      " 4   HS_Group       13121 non-null  int64 \n",
      " 5   HS_Religion    13121 non-null  int64 \n",
      " 6   HS_Race        13121 non-null  int64 \n",
      " 7   HS_Physical    13121 non-null  int64 \n",
      " 8   HS_Gender      13121 non-null  int64 \n",
      " 9   HS_Other       13121 non-null  int64 \n",
      " 10  HS_Weak        13121 non-null  int64 \n",
      " 11  HS_Moderate    13121 non-null  int64 \n",
      " 12  HS_Strong      13121 non-null  int64 \n",
      "dtypes: int64(12), object(1)\n",
      "memory usage: 1.4+ MB\n"
     ]
    }
   ],
   "source": [
    "okkyibrahim = okkyibrahim.dropna(subset=['Tweet'])\n",
    "okkyibrahim.info()"
   ]
  },
  {
   "cell_type": "code",
   "execution_count": 17,
   "metadata": {},
   "outputs": [
    {
     "data": {
      "text/html": [
       "<div>\n",
       "<style scoped>\n",
       "    .dataframe tbody tr th:only-of-type {\n",
       "        vertical-align: middle;\n",
       "    }\n",
       "\n",
       "    .dataframe tbody tr th {\n",
       "        vertical-align: top;\n",
       "    }\n",
       "\n",
       "    .dataframe thead th {\n",
       "        text-align: right;\n",
       "    }\n",
       "</style>\n",
       "<table border=\"1\" class=\"dataframe\">\n",
       "  <thead>\n",
       "    <tr style=\"text-align: right;\">\n",
       "      <th></th>\n",
       "      <th>Tweet</th>\n",
       "      <th>HS</th>\n",
       "      <th>Abusive</th>\n",
       "      <th>HS_Individual</th>\n",
       "      <th>HS_Group</th>\n",
       "      <th>HS_Religion</th>\n",
       "      <th>HS_Race</th>\n",
       "      <th>HS_Physical</th>\n",
       "      <th>HS_Gender</th>\n",
       "      <th>HS_Other</th>\n",
       "      <th>HS_Weak</th>\n",
       "      <th>HS_Moderate</th>\n",
       "      <th>HS_Strong</th>\n",
       "    </tr>\n",
       "  </thead>\n",
       "  <tbody>\n",
       "    <tr>\n",
       "      <th>6</th>\n",
       "      <td>deklarasi pilih kepala daerah 2018 aman anti h...</td>\n",
       "      <td>0</td>\n",
       "      <td>0</td>\n",
       "      <td>0</td>\n",
       "      <td>0</td>\n",
       "      <td>0</td>\n",
       "      <td>0</td>\n",
       "      <td>0</td>\n",
       "      <td>0</td>\n",
       "      <td>0</td>\n",
       "      <td>0</td>\n",
       "      <td>0</td>\n",
       "      <td>0</td>\n",
       "    </tr>\n",
       "    <tr>\n",
       "      <th>7</th>\n",
       "      <td>gue selesai re watch aldnoah zero kampret 2 ka...</td>\n",
       "      <td>0</td>\n",
       "      <td>1</td>\n",
       "      <td>0</td>\n",
       "      <td>0</td>\n",
       "      <td>0</td>\n",
       "      <td>0</td>\n",
       "      <td>0</td>\n",
       "      <td>0</td>\n",
       "      <td>0</td>\n",
       "      <td>0</td>\n",
       "      <td>0</td>\n",
       "      <td>0</td>\n",
       "    </tr>\n",
       "    <tr>\n",
       "      <th>8</th>\n",
       "      <td>admin belanja po nak makan ais kepal milo ais ...</td>\n",
       "      <td>0</td>\n",
       "      <td>0</td>\n",
       "      <td>0</td>\n",
       "      <td>0</td>\n",
       "      <td>0</td>\n",
       "      <td>0</td>\n",
       "      <td>0</td>\n",
       "      <td>0</td>\n",
       "      <td>0</td>\n",
       "      <td>0</td>\n",
       "      <td>0</td>\n",
       "      <td>0</td>\n",
       "    </tr>\n",
       "    <tr>\n",
       "      <th>9</th>\n",
       "      <td>enak ngewe</td>\n",
       "      <td>0</td>\n",
       "      <td>1</td>\n",
       "      <td>0</td>\n",
       "      <td>0</td>\n",
       "      <td>0</td>\n",
       "      <td>0</td>\n",
       "      <td>0</td>\n",
       "      <td>0</td>\n",
       "      <td>0</td>\n",
       "      <td>0</td>\n",
       "      <td>0</td>\n",
       "      <td>0</td>\n",
       "    </tr>\n",
       "  </tbody>\n",
       "</table>\n",
       "</div>"
      ],
      "text/plain": [
       "                                               Tweet  HS  Abusive  \\\n",
       "6  deklarasi pilih kepala daerah 2018 aman anti h...   0        0   \n",
       "7  gue selesai re watch aldnoah zero kampret 2 ka...   0        1   \n",
       "8  admin belanja po nak makan ais kepal milo ais ...   0        0   \n",
       "9                                         enak ngewe   0        1   \n",
       "\n",
       "   HS_Individual  HS_Group  HS_Religion  HS_Race  HS_Physical  HS_Gender  \\\n",
       "6              0         0            0        0            0          0   \n",
       "7              0         0            0        0            0          0   \n",
       "8              0         0            0        0            0          0   \n",
       "9              0         0            0        0            0          0   \n",
       "\n",
       "   HS_Other  HS_Weak  HS_Moderate  HS_Strong  \n",
       "6         0        0            0          0  \n",
       "7         0        0            0          0  \n",
       "8         0        0            0          0  \n",
       "9         0        0            0          0  "
      ]
     },
     "execution_count": 17,
     "metadata": {},
     "output_type": "execute_result"
    }
   ],
   "source": [
    "def clean_text(text):\n",
    "    cleaned_text = re.sub(r'[^\\x00-\\x7F]+', '', text)\n",
    "    cleaned_text = ' '.join(cleaned_text.split())\n",
    "    return cleaned_text\n",
    "\n",
    "\n",
    "okkyibrahim['Tweet'] = okkyibrahim['Tweet'].apply(clean_text)\n",
    "okkyibrahim.iloc[6:10]"
   ]
  },
  {
   "cell_type": "code",
   "execution_count": 18,
   "metadata": {},
   "outputs": [
    {
     "name": "stdout",
     "output_type": "stream",
     "text": [
      "<class 'pandas.core.frame.DataFrame'>\n",
      "Index: 13121 entries, 0 to 13168\n",
      "Data columns (total 13 columns):\n",
      " #   Column         Non-Null Count  Dtype \n",
      "---  ------         --------------  ----- \n",
      " 0   Tweet          13121 non-null  object\n",
      " 1   HS             13121 non-null  int64 \n",
      " 2   Abusive        13121 non-null  int64 \n",
      " 3   HS_Individual  13121 non-null  int64 \n",
      " 4   HS_Group       13121 non-null  int64 \n",
      " 5   HS_Religion    13121 non-null  int64 \n",
      " 6   HS_Race        13121 non-null  int64 \n",
      " 7   HS_Physical    13121 non-null  int64 \n",
      " 8   HS_Gender      13121 non-null  int64 \n",
      " 9   HS_Other       13121 non-null  int64 \n",
      " 10  HS_Weak        13121 non-null  int64 \n",
      " 11  HS_Moderate    13121 non-null  int64 \n",
      " 12  HS_Strong      13121 non-null  int64 \n",
      "dtypes: int64(12), object(1)\n",
      "memory usage: 1.4+ MB\n"
     ]
    }
   ],
   "source": [
    "okkyibrahim.info()"
   ]
  },
  {
   "cell_type": "markdown",
   "metadata": {},
   "source": [
    "## Target Dataset Result"
   ]
  },
  {
   "cell_type": "code",
   "execution_count": 19,
   "metadata": {},
   "outputs": [
    {
     "name": "stdout",
     "output_type": "stream",
     "text": [
      "<class 'pandas.core.frame.DataFrame'>\n",
      "RangeIndex: 20894 entries, 0 to 20893\n",
      "Data columns (total 6 columns):\n",
      " #   Column          Non-Null Count  Dtype \n",
      "---  ------          --------------  ----- \n",
      " 0   Text            20894 non-null  object\n",
      " 1   Hate Speech     20894 non-null  object\n",
      " 2   Abusive Speech  20894 non-null  object\n",
      " 3   SARA            20894 non-null  object\n",
      " 4   Radicalism      20894 non-null  object\n",
      " 5   Defamation      20894 non-null  object\n",
      "dtypes: object(6)\n",
      "memory usage: 979.5+ KB\n"
     ]
    }
   ],
   "source": [
    "new_data = {\n",
    "    'Text': okkyibrahim['Tweet'],\n",
    "    'SARA': okkyibrahim[['HS_Religion', 'HS_Race']].max(axis=1),\n",
    "    'Radicalism': okkyibrahim['HS_Group'],\n",
    "    'Defamation': okkyibrahim['HS_Individual'],\n",
    "    'Hate Speech': okkyibrahim['HS'],\n",
    "    'Abusive Speech': okkyibrahim[['Abusive', 'HS_Gender', 'HS_Physical', 'HS_Other']].max(axis=1)\n",
    "}\n",
    "\n",
    "new_df = pd.DataFrame(new_data)\n",
    "toxic_df = pd.concat([toxic_df, new_df], ignore_index=True)\n",
    "\n",
    "toxic_df.info()"
   ]
  },
  {
   "cell_type": "code",
   "execution_count": 20,
   "metadata": {},
   "outputs": [],
   "source": [
    "import sys\n",
    "import os\n",
    "\n",
    "# Add parent directory to sys.path\n",
    "project_root = os.path.abspath(os.path.join(os.getcwd(), \"../\"))\n",
    "sys.path.append(project_root)\n",
    "\n",
    "from text_preprocess.text_preprocessing import preprocess_text\n",
    "\n",
    "toxic_df['Text'] = toxic_df['Text'].apply(preprocess_text)"
   ]
  },
  {
   "cell_type": "code",
   "execution_count": 21,
   "metadata": {},
   "outputs": [
    {
     "data": {
      "text/html": [
       "<div>\n",
       "<style scoped>\n",
       "    .dataframe tbody tr th:only-of-type {\n",
       "        vertical-align: middle;\n",
       "    }\n",
       "\n",
       "    .dataframe tbody tr th {\n",
       "        vertical-align: top;\n",
       "    }\n",
       "\n",
       "    .dataframe thead th {\n",
       "        text-align: right;\n",
       "    }\n",
       "</style>\n",
       "<table border=\"1\" class=\"dataframe\">\n",
       "  <thead>\n",
       "    <tr style=\"text-align: right;\">\n",
       "      <th></th>\n",
       "      <th>Text</th>\n",
       "      <th>Hate Speech</th>\n",
       "      <th>Abusive Speech</th>\n",
       "      <th>SARA</th>\n",
       "      <th>Radicalism</th>\n",
       "      <th>Defamation</th>\n",
       "    </tr>\n",
       "  </thead>\n",
       "  <tbody>\n",
       "    <tr>\n",
       "      <th>0</th>\n",
       "      <td>jabar provinsi barokah nwoi anjing bodoh nprop...</td>\n",
       "      <td>1</td>\n",
       "      <td>0</td>\n",
       "      <td>0</td>\n",
       "      <td>0</td>\n",
       "      <td>1</td>\n",
       "    </tr>\n",
       "    <tr>\n",
       "      <th>1</th>\n",
       "      <td>nitizen penasaran keluarga situ urus nya diuru...</td>\n",
       "      <td>0</td>\n",
       "      <td>0</td>\n",
       "      <td>0</td>\n",
       "      <td>0</td>\n",
       "      <td>0</td>\n",
       "    </tr>\n",
       "    <tr>\n",
       "      <th>2</th>\n",
       "      <td>sidangahok moga sipenista agama ateknya mati w...</td>\n",
       "      <td>1</td>\n",
       "      <td>0</td>\n",
       "      <td>1</td>\n",
       "      <td>1</td>\n",
       "      <td>1</td>\n",
       "    </tr>\n",
       "    <tr>\n",
       "      <th>3</th>\n",
       "      <td>jakarta barusan baca undang beda presiden mant...</td>\n",
       "      <td>0</td>\n",
       "      <td>0</td>\n",
       "      <td>0</td>\n",
       "      <td>0</td>\n",
       "      <td>0</td>\n",
       "    </tr>\n",
       "    <tr>\n",
       "      <th>4</th>\n",
       "      <td>anak melulu nof nkaga mikir kasi anak malu lak...</td>\n",
       "      <td>0</td>\n",
       "      <td>0</td>\n",
       "      <td>0</td>\n",
       "      <td>0</td>\n",
       "      <td>0</td>\n",
       "    </tr>\n",
       "  </tbody>\n",
       "</table>\n",
       "</div>"
      ],
      "text/plain": [
       "                                                Text Hate Speech  \\\n",
       "0  jabar provinsi barokah nwoi anjing bodoh nprop...           1   \n",
       "1  nitizen penasaran keluarga situ urus nya diuru...           0   \n",
       "2  sidangahok moga sipenista agama ateknya mati w...           1   \n",
       "3  jakarta barusan baca undang beda presiden mant...           0   \n",
       "4  anak melulu nof nkaga mikir kasi anak malu lak...           0   \n",
       "\n",
       "  Abusive Speech SARA Radicalism Defamation  \n",
       "0              0    0          0          1  \n",
       "1              0    0          0          0  \n",
       "2              0    1          1          1  \n",
       "3              0    0          0          0  \n",
       "4              0    0          0          0  "
      ]
     },
     "execution_count": 21,
     "metadata": {},
     "output_type": "execute_result"
    }
   ],
   "source": [
    "toxic_df.head()"
   ]
  },
  {
   "cell_type": "code",
   "execution_count": 22,
   "metadata": {},
   "outputs": [
    {
     "name": "stdout",
     "output_type": "stream",
     "text": [
      "<class 'pandas.core.frame.DataFrame'>\n",
      "RangeIndex: 20894 entries, 0 to 20893\n",
      "Data columns (total 6 columns):\n",
      " #   Column          Non-Null Count  Dtype \n",
      "---  ------          --------------  ----- \n",
      " 0   Text            20894 non-null  object\n",
      " 1   Hate Speech     20894 non-null  int64 \n",
      " 2   Abusive Speech  20894 non-null  int64 \n",
      " 3   SARA            20894 non-null  int64 \n",
      " 4   Radicalism      20894 non-null  int64 \n",
      " 5   Defamation      20894 non-null  int64 \n",
      "dtypes: int64(5), object(1)\n",
      "memory usage: 979.5+ KB\n"
     ]
    }
   ],
   "source": [
    "category_columns = ['Hate Speech', 'Abusive Speech', 'SARA', 'Radicalism', 'Defamation']\n",
    "toxic_df[category_columns] = toxic_df[category_columns].astype(int)\n",
    "\n",
    "toxic_df.info()"
   ]
  },
  {
   "cell_type": "code",
   "execution_count": 23,
   "metadata": {},
   "outputs": [
    {
     "data": {
      "text/plain": [
       "Hate Speech       8701\n",
       "Abusive Speech    8336\n",
       "SARA              2502\n",
       "Radicalism        3261\n",
       "Defamation        5992\n",
       "dtype: int64"
      ]
     },
     "execution_count": 23,
     "metadata": {},
     "output_type": "execute_result"
    }
   ],
   "source": [
    "toxic_df[category_columns].apply(lambda col: (col == 1).sum())"
   ]
  },
  {
   "cell_type": "markdown",
   "metadata": {},
   "source": [
    "## SMOTE with TF-IDF Augmentation"
   ]
  },
  {
   "cell_type": "code",
   "execution_count": 24,
   "metadata": {},
   "outputs": [],
   "source": [
    "toxic_df['labels'] = toxic_df[category_columns].apply(lambda row: [cat for cat in category_columns if row[cat] == 1], axis=1)"
   ]
  },
  {
   "cell_type": "code",
   "execution_count": 25,
   "metadata": {},
   "outputs": [],
   "source": [
    "# Vectorize text using TF-IDF with limited features\n",
    "vectorizer = TfidfVectorizer()\n",
    "X = vectorizer.fit_transform(toxic_df['Text'])"
   ]
  },
  {
   "cell_type": "code",
   "execution_count": 26,
   "metadata": {},
   "outputs": [],
   "source": [
    "# Reduce dimensionality to manageable size (e.g., 300 components)\n",
    "svd = TruncatedSVD(n_components=300, random_state=42)\n",
    "X_reduced = svd.fit_transform(X)"
   ]
  },
  {
   "cell_type": "code",
   "execution_count": 27,
   "metadata": {},
   "outputs": [],
   "source": [
    "# Binarize multilabels\n",
    "mlb = MultiLabelBinarizer()\n",
    "Y = mlb.fit_transform(toxic_df['labels'])"
   ]
  },
  {
   "cell_type": "code",
   "execution_count": 28,
   "metadata": {},
   "outputs": [],
   "source": [
    "# Augmentation loop for each label\n",
    "synthetic_records = []\n",
    "target_count = Y.sum(axis=0).max()\n",
    "feature_names = np.array(vectorizer.get_feature_names_out())"
   ]
  },
  {
   "cell_type": "code",
   "execution_count": 29,
   "metadata": {},
   "outputs": [],
   "source": [
    "for i, label in enumerate(mlb.classes_):\n",
    "    y_bin = Y[:, i]\n",
    "    current_count = np.sum(y_bin)\n",
    "    \n",
    "    if current_count < 2:\n",
    "        print(f\"Skipping label {label} due to too few samples.\")\n",
    "        continue\n",
    "    \n",
    "    pos_indices = np.where(y_bin == 1)[0]\n",
    "    smote = SMOTE(sampling_strategy={1: target_count}, random_state=42)\n",
    "    X_res, y_res = smote.fit_resample(X_reduced, y_bin)\n",
    "\n",
    "    # Get synthetic samples only\n",
    "    n_synthetic = len(X_res) - len(X_reduced)\n",
    "    if n_synthetic <= 0:\n",
    "        continue\n",
    "\n",
    "    X_synthetic_reduced = X_res[-n_synthetic:]\n",
    "\n",
    "    # Transform back into TF-IDF space (approximate)\n",
    "    X_synthetic_tfidf = svd.inverse_transform(X_synthetic_reduced)\n",
    "\n",
    "    # Convert top words from synthetic TF-IDF vectors into sentences\n",
    "    for vec in X_synthetic_tfidf:\n",
    "        top_indices = vec.argsort()[-7:][::-1]\n",
    "        top_words = feature_names[top_indices]\n",
    "        sentence = \" \".join(top_words)\n",
    "        synthetic_records.append({'Text': sentence, label: 1})"
   ]
  },
  {
   "cell_type": "code",
   "execution_count": 30,
   "metadata": {},
   "outputs": [],
   "source": [
    "# Convert and clean synthetic data\n",
    "synthetic_df = pd.DataFrame(synthetic_records).fillna(0)\n",
    "for col in category_columns:\n",
    "    if col not in synthetic_df.columns:\n",
    "        synthetic_df[col] = 0\n",
    "synthetic_df = synthetic_df[[\"Text\"] + category_columns]\n",
    "synthetic_df[category_columns] = synthetic_df[category_columns].astype(int)"
   ]
  },
  {
   "cell_type": "code",
   "execution_count": 75,
   "metadata": {},
   "outputs": [
    {
     "data": {
      "text/html": [
       "<div>\n",
       "<style scoped>\n",
       "    .dataframe tbody tr th:only-of-type {\n",
       "        vertical-align: middle;\n",
       "    }\n",
       "\n",
       "    .dataframe tbody tr th {\n",
       "        vertical-align: top;\n",
       "    }\n",
       "\n",
       "    .dataframe thead th {\n",
       "        text-align: right;\n",
       "    }\n",
       "</style>\n",
       "<table border=\"1\" class=\"dataframe\">\n",
       "  <thead>\n",
       "    <tr style=\"text-align: right;\">\n",
       "      <th></th>\n",
       "      <th>Text</th>\n",
       "      <th>Hate Speech</th>\n",
       "      <th>Abusive Speech</th>\n",
       "      <th>SARA</th>\n",
       "      <th>Radicalism</th>\n",
       "      <th>Defamation</th>\n",
       "    </tr>\n",
       "  </thead>\n",
       "  <tbody>\n",
       "    <tr>\n",
       "      <th>0</th>\n",
       "      <td>wakil bubar dewan rakyat anggota gaji ketua</td>\n",
       "      <td>0</td>\n",
       "      <td>1</td>\n",
       "      <td>0</td>\n",
       "      <td>0</td>\n",
       "      <td>0</td>\n",
       "    </tr>\n",
       "    <tr>\n",
       "      <th>1</th>\n",
       "      <td>kontol agama jan heh mes rp aje</td>\n",
       "      <td>0</td>\n",
       "      <td>1</td>\n",
       "      <td>0</td>\n",
       "      <td>0</td>\n",
       "      <td>0</td>\n",
       "    </tr>\n",
       "    <tr>\n",
       "      <th>2</th>\n",
       "      <td>mampus kalah pergi serang ciduk jelek tonton</td>\n",
       "      <td>0</td>\n",
       "      <td>1</td>\n",
       "      <td>0</td>\n",
       "      <td>0</td>\n",
       "      <td>0</td>\n",
       "    </tr>\n",
       "    <tr>\n",
       "      <th>3</th>\n",
       "      <td>geblek bicara penjara bocah administrator mant...</td>\n",
       "      <td>0</td>\n",
       "      <td>1</td>\n",
       "      <td>0</td>\n",
       "      <td>0</td>\n",
       "      <td>0</td>\n",
       "    </tr>\n",
       "    <tr>\n",
       "      <th>4</th>\n",
       "      <td>jembut lebat orang ajak bulu badan muda</td>\n",
       "      <td>0</td>\n",
       "      <td>1</td>\n",
       "      <td>0</td>\n",
       "      <td>0</td>\n",
       "      <td>0</td>\n",
       "    </tr>\n",
       "  </tbody>\n",
       "</table>\n",
       "</div>"
      ],
      "text/plain": [
       "                                                Text  Hate Speech  \\\n",
       "0        wakil bubar dewan rakyat anggota gaji ketua            0   \n",
       "1                    kontol agama jan heh mes rp aje            0   \n",
       "2       mampus kalah pergi serang ciduk jelek tonton            0   \n",
       "3  geblek bicara penjara bocah administrator mant...            0   \n",
       "4            jembut lebat orang ajak bulu badan muda            0   \n",
       "\n",
       "   Abusive Speech  SARA  Radicalism  Defamation  \n",
       "0               1     0           0           0  \n",
       "1               1     0           0           0  \n",
       "2               1     0           0           0  \n",
       "3               1     0           0           0  \n",
       "4               1     0           0           0  "
      ]
     },
     "execution_count": 75,
     "metadata": {},
     "output_type": "execute_result"
    }
   ],
   "source": [
    "synthetic_df.head()"
   ]
  },
  {
   "cell_type": "code",
   "execution_count": 32,
   "metadata": {},
   "outputs": [
    {
     "data": {
      "text/plain": [
       "Hate Speech          0\n",
       "Abusive Speech     365\n",
       "SARA              6199\n",
       "Radicalism        5440\n",
       "Defamation        2709\n",
       "dtype: int64"
      ]
     },
     "execution_count": 32,
     "metadata": {},
     "output_type": "execute_result"
    }
   ],
   "source": [
    "synthetic_df[category_columns].apply(lambda col: (col == 1).sum())"
   ]
  },
  {
   "cell_type": "code",
   "execution_count": 33,
   "metadata": {},
   "outputs": [],
   "source": [
    "# Combine original and synthetic\n",
    "final_df = pd.concat([toxic_df[[\"Text\"] + category_columns], synthetic_df], ignore_index=True)"
   ]
  },
  {
   "cell_type": "code",
   "execution_count": 36,
   "metadata": {},
   "outputs": [
    {
     "data": {
      "text/html": [
       "<div>\n",
       "<style scoped>\n",
       "    .dataframe tbody tr th:only-of-type {\n",
       "        vertical-align: middle;\n",
       "    }\n",
       "\n",
       "    .dataframe tbody tr th {\n",
       "        vertical-align: top;\n",
       "    }\n",
       "\n",
       "    .dataframe thead th {\n",
       "        text-align: right;\n",
       "    }\n",
       "</style>\n",
       "<table border=\"1\" class=\"dataframe\">\n",
       "  <thead>\n",
       "    <tr style=\"text-align: right;\">\n",
       "      <th></th>\n",
       "      <th>Text</th>\n",
       "      <th>Hate Speech</th>\n",
       "      <th>Abusive Speech</th>\n",
       "      <th>SARA</th>\n",
       "      <th>Radicalism</th>\n",
       "      <th>Defamation</th>\n",
       "    </tr>\n",
       "  </thead>\n",
       "  <tbody>\n",
       "    <tr>\n",
       "      <th>0</th>\n",
       "      <td>jabar provinsi barokah nwoi anjing bodoh nprop...</td>\n",
       "      <td>1</td>\n",
       "      <td>0</td>\n",
       "      <td>0</td>\n",
       "      <td>0</td>\n",
       "      <td>1</td>\n",
       "    </tr>\n",
       "    <tr>\n",
       "      <th>1</th>\n",
       "      <td>nitizen penasaran keluarga situ urus nya diuru...</td>\n",
       "      <td>0</td>\n",
       "      <td>0</td>\n",
       "      <td>0</td>\n",
       "      <td>0</td>\n",
       "      <td>0</td>\n",
       "    </tr>\n",
       "    <tr>\n",
       "      <th>2</th>\n",
       "      <td>sidangahok moga sipenista agama ateknya mati w...</td>\n",
       "      <td>1</td>\n",
       "      <td>0</td>\n",
       "      <td>1</td>\n",
       "      <td>1</td>\n",
       "      <td>1</td>\n",
       "    </tr>\n",
       "    <tr>\n",
       "      <th>3</th>\n",
       "      <td>jakarta barusan baca undang beda presiden mant...</td>\n",
       "      <td>0</td>\n",
       "      <td>0</td>\n",
       "      <td>0</td>\n",
       "      <td>0</td>\n",
       "      <td>0</td>\n",
       "    </tr>\n",
       "    <tr>\n",
       "      <th>4</th>\n",
       "      <td>anak melulu nof nkaga mikir kasi anak malu lak...</td>\n",
       "      <td>0</td>\n",
       "      <td>0</td>\n",
       "      <td>0</td>\n",
       "      <td>0</td>\n",
       "      <td>0</td>\n",
       "    </tr>\n",
       "  </tbody>\n",
       "</table>\n",
       "</div>"
      ],
      "text/plain": [
       "                                                Text  Hate Speech  \\\n",
       "0  jabar provinsi barokah nwoi anjing bodoh nprop...            1   \n",
       "1  nitizen penasaran keluarga situ urus nya diuru...            0   \n",
       "2  sidangahok moga sipenista agama ateknya mati w...            1   \n",
       "3  jakarta barusan baca undang beda presiden mant...            0   \n",
       "4  anak melulu nof nkaga mikir kasi anak malu lak...            0   \n",
       "\n",
       "   Abusive Speech  SARA  Radicalism  Defamation  \n",
       "0               0     0           0           1  \n",
       "1               0     0           0           0  \n",
       "2               0     1           1           1  \n",
       "3               0     0           0           0  \n",
       "4               0     0           0           0  "
      ]
     },
     "execution_count": 36,
     "metadata": {},
     "output_type": "execute_result"
    }
   ],
   "source": [
    "final_df.head()"
   ]
  },
  {
   "cell_type": "code",
   "execution_count": 35,
   "metadata": {},
   "outputs": [
    {
     "data": {
      "text/plain": [
       "Hate Speech       8701\n",
       "Abusive Speech    8701\n",
       "SARA              8701\n",
       "Radicalism        8701\n",
       "Defamation        8701\n",
       "dtype: int64"
      ]
     },
     "execution_count": 35,
     "metadata": {},
     "output_type": "execute_result"
    }
   ],
   "source": [
    "final_df[category_columns].apply(lambda col: (col == 1).sum())"
   ]
  },
  {
   "cell_type": "code",
   "execution_count": 77,
   "metadata": {},
   "outputs": [
    {
     "data": {
      "text/html": [
       "<div>\n",
       "<style scoped>\n",
       "    .dataframe tbody tr th:only-of-type {\n",
       "        vertical-align: middle;\n",
       "    }\n",
       "\n",
       "    .dataframe tbody tr th {\n",
       "        vertical-align: top;\n",
       "    }\n",
       "\n",
       "    .dataframe thead th {\n",
       "        text-align: right;\n",
       "    }\n",
       "</style>\n",
       "<table border=\"1\" class=\"dataframe\">\n",
       "  <thead>\n",
       "    <tr style=\"text-align: right;\">\n",
       "      <th></th>\n",
       "      <th>Text</th>\n",
       "      <th>Hate Speech</th>\n",
       "      <th>Abusive Speech</th>\n",
       "      <th>SARA</th>\n",
       "      <th>Radicalism</th>\n",
       "      <th>Defamation</th>\n",
       "    </tr>\n",
       "  </thead>\n",
       "  <tbody>\n",
       "    <tr>\n",
       "      <th>51</th>\n",
       "      <td>kontol agama jan heh mes rp aje</td>\n",
       "      <td>0</td>\n",
       "      <td>1</td>\n",
       "      <td>0</td>\n",
       "      <td>0</td>\n",
       "      <td>0</td>\n",
       "    </tr>\n",
       "    <tr>\n",
       "      <th>83</th>\n",
       "      <td>kontol agama jan heh mes rp aje</td>\n",
       "      <td>0</td>\n",
       "      <td>1</td>\n",
       "      <td>0</td>\n",
       "      <td>0</td>\n",
       "      <td>0</td>\n",
       "    </tr>\n",
       "    <tr>\n",
       "      <th>112</th>\n",
       "      <td>kontol agama jan heh mes rp aje</td>\n",
       "      <td>0</td>\n",
       "      <td>1</td>\n",
       "      <td>0</td>\n",
       "      <td>0</td>\n",
       "      <td>0</td>\n",
       "    </tr>\n",
       "    <tr>\n",
       "      <th>140</th>\n",
       "      <td>kontol agama jan heh mes rp aje</td>\n",
       "      <td>0</td>\n",
       "      <td>1</td>\n",
       "      <td>0</td>\n",
       "      <td>0</td>\n",
       "      <td>0</td>\n",
       "    </tr>\n",
       "    <tr>\n",
       "      <th>186</th>\n",
       "      <td>kontol agama jan heh mes rp aje</td>\n",
       "      <td>0</td>\n",
       "      <td>1</td>\n",
       "      <td>0</td>\n",
       "      <td>0</td>\n",
       "      <td>0</td>\n",
       "    </tr>\n",
       "    <tr>\n",
       "      <th>...</th>\n",
       "      <td>...</td>\n",
       "      <td>...</td>\n",
       "      <td>...</td>\n",
       "      <td>...</td>\n",
       "      <td>...</td>\n",
       "      <td>...</td>\n",
       "    </tr>\n",
       "    <tr>\n",
       "      <th>14693</th>\n",
       "      <td>indonesia komunis partai ganyang uniform locat...</td>\n",
       "      <td>0</td>\n",
       "      <td>0</td>\n",
       "      <td>1</td>\n",
       "      <td>0</td>\n",
       "      <td>0</td>\n",
       "    </tr>\n",
       "    <tr>\n",
       "      <th>14701</th>\n",
       "      <td>komunis partai indonesia ganyang uniform locat...</td>\n",
       "      <td>0</td>\n",
       "      <td>0</td>\n",
       "      <td>1</td>\n",
       "      <td>0</td>\n",
       "      <td>0</td>\n",
       "    </tr>\n",
       "    <tr>\n",
       "      <th>14703</th>\n",
       "      <td>mati doa muslim moga tomohon novanto setya</td>\n",
       "      <td>0</td>\n",
       "      <td>0</td>\n",
       "      <td>1</td>\n",
       "      <td>0</td>\n",
       "      <td>0</td>\n",
       "    </tr>\n",
       "    <tr>\n",
       "      <th>14707</th>\n",
       "      <td>ahok kafir babi anti makan umat suka</td>\n",
       "      <td>0</td>\n",
       "      <td>0</td>\n",
       "      <td>1</td>\n",
       "      <td>0</td>\n",
       "      <td>0</td>\n",
       "    </tr>\n",
       "    <tr>\n",
       "      <th>14712</th>\n",
       "      <td>agama munafik pimpin nista tertawa islam lawan</td>\n",
       "      <td>0</td>\n",
       "      <td>0</td>\n",
       "      <td>1</td>\n",
       "      <td>0</td>\n",
       "      <td>0</td>\n",
       "    </tr>\n",
       "  </tbody>\n",
       "</table>\n",
       "<p>2285 rows × 6 columns</p>\n",
       "</div>"
      ],
      "text/plain": [
       "                                                    Text  Hate Speech  \\\n",
       "51                       kontol agama jan heh mes rp aje            0   \n",
       "83                       kontol agama jan heh mes rp aje            0   \n",
       "112                      kontol agama jan heh mes rp aje            0   \n",
       "140                      kontol agama jan heh mes rp aje            0   \n",
       "186                      kontol agama jan heh mes rp aje            0   \n",
       "...                                                  ...          ...   \n",
       "14693  indonesia komunis partai ganyang uniform locat...            0   \n",
       "14701  komunis partai indonesia ganyang uniform locat...            0   \n",
       "14703         mati doa muslim moga tomohon novanto setya            0   \n",
       "14707               ahok kafir babi anti makan umat suka            0   \n",
       "14712     agama munafik pimpin nista tertawa islam lawan            0   \n",
       "\n",
       "       Abusive Speech  SARA  Radicalism  Defamation  \n",
       "51                  1     0           0           0  \n",
       "83                  1     0           0           0  \n",
       "112                 1     0           0           0  \n",
       "140                 1     0           0           0  \n",
       "186                 1     0           0           0  \n",
       "...               ...   ...         ...         ...  \n",
       "14693               0     1           0           0  \n",
       "14701               0     1           0           0  \n",
       "14703               0     1           0           0  \n",
       "14707               0     1           0           0  \n",
       "14712               0     1           0           0  \n",
       "\n",
       "[2285 rows x 6 columns]"
      ]
     },
     "execution_count": 77,
     "metadata": {},
     "output_type": "execute_result"
    }
   ],
   "source": [
    "synthetic_df[synthetic_df.duplicated('Text')]"
   ]
  },
  {
   "cell_type": "markdown",
   "metadata": {},
   "source": [
    "## IndoBERTweet Model"
   ]
  },
  {
   "cell_type": "markdown",
   "metadata": {},
   "source": [
    "### Split Data"
   ]
  },
  {
   "cell_type": "code",
   "execution_count": 55,
   "metadata": {},
   "outputs": [],
   "source": [
    "# Prepare features and labels\n",
    "X = toxic_df.drop(columns=category_columns)  # Features (input data)\n",
    "y = toxic_df[category_columns]  # Labels (multilabel binary matrix)\n",
    "\n",
    "# Convert to numpy arrays\n",
    "X_values = X.values\n",
    "y_values = y.values"
   ]
  },
  {
   "cell_type": "code",
   "execution_count": 56,
   "metadata": {},
   "outputs": [],
   "source": [
    "# Split into Train (80%) and Temp (20%)\n",
    "# Create the splitter\n",
    "msss = MultilabelStratifiedShuffleSplit(n_splits=1, test_size=0.2, random_state=42)\n",
    "for train_idx, temp_idx in msss.split(X_values, y_values):\n",
    "    X_train, y_train = X_values[train_idx], y_values[train_idx]\n",
    "    X_temp, y_temp = X_values[temp_idx], y_values[temp_idx]"
   ]
  },
  {
   "cell_type": "code",
   "execution_count": 57,
   "metadata": {},
   "outputs": [],
   "source": [
    "# Now split Temp into Validation (10%) and Test (10%)\n",
    "msss_temp = MultilabelStratifiedShuffleSplit(n_splits=1, test_size=0.5, random_state=42)\n",
    "for val_idx, test_idx in msss_temp.split(X_temp, y_temp):\n",
    "    X_val, y_val = X_temp[val_idx], y_temp[val_idx]\n",
    "    X_test, y_test = X_temp[test_idx], y_temp[test_idx]"
   ]
  },
  {
   "cell_type": "code",
   "execution_count": 58,
   "metadata": {},
   "outputs": [],
   "source": [
    "# Reconstruct DataFrames\n",
    "X_train_df = pd.DataFrame(X_train, columns=X.columns)\n",
    "X_val_df = pd.DataFrame(X_val, columns=X.columns)\n",
    "X_test_df = pd.DataFrame(X_test, columns=X.columns)\n",
    "\n",
    "y_train_df = pd.DataFrame(y_train, columns=y.columns)\n",
    "y_val_df = pd.DataFrame(y_val, columns=y.columns)\n",
    "y_test_df = pd.DataFrame(y_test, columns=y.columns)"
   ]
  },
  {
   "cell_type": "code",
   "execution_count": 59,
   "metadata": {},
   "outputs": [],
   "source": [
    "# Combine features + labels\n",
    "train_df = pd.concat([X_train_df, y_train_df], axis=1)\n",
    "val_df = pd.concat([X_val_df, y_val_df], axis=1)\n",
    "test_df = pd.concat([X_test_df, y_test_df], axis=1)"
   ]
  },
  {
   "cell_type": "code",
   "execution_count": 60,
   "metadata": {},
   "outputs": [],
   "source": [
    "# Save to CSV\n",
    "train_df.to_csv(\"./data/train.csv\", index=False)\n",
    "val_df.to_csv(\"./data/val.csv\", index=False)\n",
    "test_df.to_csv(\"./data/test.csv\", index=False)"
   ]
  },
  {
   "cell_type": "code",
   "execution_count": 61,
   "metadata": {},
   "outputs": [
    {
     "name": "stdout",
     "output_type": "stream",
     "text": [
      "Train set size: 16715\n",
      "Validation set size: 2089\n",
      "Test set size: 2090\n"
     ]
    }
   ],
   "source": [
    "# Print distributions\n",
    "print(f\"Train set size: {len(train_df)}\")\n",
    "print(f\"Validation set size: {len(val_df)}\")\n",
    "print(f\"Test set size: {len(test_df)}\")"
   ]
  },
  {
   "cell_type": "code",
   "execution_count": 62,
   "metadata": {},
   "outputs": [
    {
     "name": "stdout",
     "output_type": "stream",
     "text": [
      "\n",
      "Label distribution in Train set:\n",
      "Hate Speech       6948\n",
      "Abusive Speech    6669\n",
      "SARA              2002\n",
      "Radicalism        2609\n",
      "Defamation        4794\n",
      "dtype: int64\n",
      "\n",
      "Label distribution in Validation set:\n",
      "Hate Speech       876\n",
      "Abusive Speech    833\n",
      "SARA              250\n",
      "Radicalism        326\n",
      "Defamation        594\n",
      "dtype: int64\n",
      "\n",
      "Label distribution in Test set:\n",
      "Hate Speech       877\n",
      "Abusive Speech    834\n",
      "SARA              250\n",
      "Radicalism        326\n",
      "Defamation        604\n",
      "dtype: int64\n"
     ]
    }
   ],
   "source": [
    "print(\"\\nLabel distribution in Train set:\")\n",
    "print(y_train_df.sum())\n",
    "\n",
    "print(\"\\nLabel distribution in Validation set:\")\n",
    "print(y_val_df.sum())\n",
    "\n",
    "print(\"\\nLabel distribution in Test set:\")\n",
    "print(y_test_df.sum())"
   ]
  },
  {
   "cell_type": "markdown",
   "metadata": {},
   "source": [
    "### Tokenize"
   ]
  },
  {
   "cell_type": "code",
   "execution_count": 63,
   "metadata": {},
   "outputs": [],
   "source": [
    "tokenizer = BertTokenizer.from_pretrained('indolem/indobertweet-base-uncased')"
   ]
  },
  {
   "cell_type": "code",
   "execution_count": 64,
   "metadata": {},
   "outputs": [],
   "source": [
    "def tokenize_text(df, max_len=128):\n",
    "    return tokenizer(\n",
    "        df['Text'].tolist(), \n",
    "        padding=True, \n",
    "        truncation=True, \n",
    "        max_length=max_len, \n",
    "        return_tensors=\"pt\"\n",
    "    )"
   ]
  },
  {
   "cell_type": "code",
   "execution_count": 66,
   "metadata": {},
   "outputs": [],
   "source": [
    "train_encodings = tokenize_text(train_df)\n",
    "val_encodings = tokenize_text(val_df)\n",
    "test_encodings = tokenize_text(test_df)"
   ]
  },
  {
   "cell_type": "code",
   "execution_count": 67,
   "metadata": {},
   "outputs": [],
   "source": [
    "train_labels = train_df[category_columns].values\n",
    "val_labels = val_df[category_columns].values\n",
    "test_labels = test_df[category_columns].values"
   ]
  },
  {
   "cell_type": "markdown",
   "metadata": {},
   "source": [
    "### Class Weight Init"
   ]
  },
  {
   "cell_type": "code",
   "execution_count": 68,
   "metadata": {},
   "outputs": [
    {
     "data": {
      "text/plain": [
       "{0: 0.4811456534254462,\n",
       " 1: 0.5012745539061328,\n",
       " 2: 1.6698301698301699,\n",
       " 3: 1.2813338443848217,\n",
       " 4: 0.6973299958281185}"
      ]
     },
     "execution_count": 68,
     "metadata": {},
     "output_type": "execute_result"
    }
   ],
   "source": [
    "n_samples = len(np.array(y_train_df))\n",
    "n_classes = len(np.array(y_train_df)[0])\n",
    "\n",
    "# Count each class frequency\n",
    "class_count = [0] * n_classes\n",
    "for classes in np.array(y_train_df):\n",
    "    for index in range(n_classes):\n",
    "        if classes[index] != 0:\n",
    "            class_count[index] += 1\n",
    "\n",
    "# Compute class weights using balanced method\n",
    "class_weights = [n_samples / (n_classes * freq) if freq > 0 else 1 for freq in class_count]\n",
    "class_labels = range(len(class_weights))\n",
    "dict(zip(class_labels, class_weights))"
   ]
  },
  {
   "cell_type": "markdown",
   "metadata": {},
   "source": [
    "### Preparation"
   ]
  },
  {
   "cell_type": "code",
   "execution_count": 69,
   "metadata": {},
   "outputs": [
    {
     "name": "stderr",
     "output_type": "stream",
     "text": [
      "Some weights of BertForSequenceClassification were not initialized from the model checkpoint at indolem/indobertweet-base-uncased and are newly initialized: ['classifier.bias', 'classifier.weight']\n",
      "You should probably TRAIN this model on a down-stream task to be able to use it for predictions and inference.\n"
     ]
    }
   ],
   "source": [
    "model = BertForSequenceClassification.from_pretrained('indolem/indobertweet-base-uncased', num_labels=len(category_columns))"
   ]
  },
  {
   "cell_type": "code",
   "execution_count": 70,
   "metadata": {},
   "outputs": [],
   "source": [
    "train_dataset = TensorDataset(train_encodings['input_ids'], train_encodings['attention_mask'], torch.tensor(train_labels, dtype=torch.float32))\n",
    "val_dataset = TensorDataset(val_encodings['input_ids'], val_encodings['attention_mask'], torch.tensor(val_labels, dtype=torch.float32))\n",
    "test_dataset = TensorDataset(test_encodings['input_ids'], test_encodings['attention_mask'], torch.tensor(test_labels, dtype=torch.float32))"
   ]
  },
  {
   "cell_type": "code",
   "execution_count": 71,
   "metadata": {},
   "outputs": [],
   "source": [
    "train_loader = DataLoader(train_dataset, batch_size=16, shuffle=True)\n",
    "val_loader = DataLoader(val_dataset, batch_size=16)\n",
    "test_loader = DataLoader(test_dataset, batch_size=16)"
   ]
  },
  {
   "cell_type": "code",
   "execution_count": 72,
   "metadata": {},
   "outputs": [],
   "source": [
    "# Convert class weights to a tensor\n",
    "class_weights_tensor = torch.tensor(class_weights, dtype=torch.float).to(model.device)\n",
    "\n",
    "# Define the loss function with class weights\n",
    "loss_fn = torch.nn.BCEWithLogitsLoss(weight=class_weights_tensor)\n",
    "\n",
    "# Set the loss function in the model\n",
    "model.config.loss = loss_fn"
   ]
  },
  {
   "cell_type": "code",
   "execution_count": 73,
   "metadata": {},
   "outputs": [
    {
     "name": "stderr",
     "output_type": "stream",
     "text": [
      "c:\\Users\\Radit1812\\Documents\\Kuliah\\Skripsi\\safe-anonymous-chat-bot-telegram\\.venv\\Lib\\site-packages\\transformers\\optimization.py:591: FutureWarning: This implementation of AdamW is deprecated and will be removed in a future version. Use the PyTorch implementation torch.optim.AdamW instead, or set `no_deprecation_warning=True` to disable this warning\n",
      "  warnings.warn(\n"
     ]
    },
    {
     "data": {
      "text/plain": [
       "BertForSequenceClassification(\n",
       "  (bert): BertModel(\n",
       "    (embeddings): BertEmbeddings(\n",
       "      (word_embeddings): Embedding(31923, 768, padding_idx=0)\n",
       "      (position_embeddings): Embedding(512, 768)\n",
       "      (token_type_embeddings): Embedding(2, 768)\n",
       "      (LayerNorm): LayerNorm((768,), eps=1e-12, elementwise_affine=True)\n",
       "      (dropout): Dropout(p=0.1, inplace=False)\n",
       "    )\n",
       "    (encoder): BertEncoder(\n",
       "      (layer): ModuleList(\n",
       "        (0-11): 12 x BertLayer(\n",
       "          (attention): BertAttention(\n",
       "            (self): BertSdpaSelfAttention(\n",
       "              (query): Linear(in_features=768, out_features=768, bias=True)\n",
       "              (key): Linear(in_features=768, out_features=768, bias=True)\n",
       "              (value): Linear(in_features=768, out_features=768, bias=True)\n",
       "              (dropout): Dropout(p=0.1, inplace=False)\n",
       "            )\n",
       "            (output): BertSelfOutput(\n",
       "              (dense): Linear(in_features=768, out_features=768, bias=True)\n",
       "              (LayerNorm): LayerNorm((768,), eps=1e-12, elementwise_affine=True)\n",
       "              (dropout): Dropout(p=0.1, inplace=False)\n",
       "            )\n",
       "          )\n",
       "          (intermediate): BertIntermediate(\n",
       "            (dense): Linear(in_features=768, out_features=3072, bias=True)\n",
       "            (intermediate_act_fn): GELUActivation()\n",
       "          )\n",
       "          (output): BertOutput(\n",
       "            (dense): Linear(in_features=3072, out_features=768, bias=True)\n",
       "            (LayerNorm): LayerNorm((768,), eps=1e-12, elementwise_affine=True)\n",
       "            (dropout): Dropout(p=0.1, inplace=False)\n",
       "          )\n",
       "        )\n",
       "      )\n",
       "    )\n",
       "    (pooler): BertPooler(\n",
       "      (dense): Linear(in_features=768, out_features=768, bias=True)\n",
       "      (activation): Tanh()\n",
       "    )\n",
       "  )\n",
       "  (dropout): Dropout(p=0.1, inplace=False)\n",
       "  (classifier): Linear(in_features=768, out_features=5, bias=True)\n",
       ")"
      ]
     },
     "execution_count": 73,
     "metadata": {},
     "output_type": "execute_result"
    }
   ],
   "source": [
    "optimizer = AdamW(model.parameters(), lr=1e-5)\n",
    "epochs = 10\n",
    "scheduler = get_linear_schedule_with_warmup(optimizer, num_warmup_steps=0, num_training_steps=len(train_loader) * epochs)\n",
    "patience = 2                # Number of checks without improvement\n",
    "stopping_counter = 0\n",
    "best_micro_f1 = 0\n",
    "best_model_state = None\n",
    "device = torch.device('cpu')\n",
    "model.to(device)"
   ]
  },
  {
   "cell_type": "markdown",
   "metadata": {},
   "source": [
    "### Training"
   ]
  },
  {
   "cell_type": "code",
   "execution_count": 74,
   "metadata": {},
   "outputs": [
    {
     "name": "stdout",
     "output_type": "stream",
     "text": [
      "\n",
      "=== Epoch 1/10 ===\n",
      "Epoch 1/10, Loss: 0.398918486097783\n",
      "Validation Loss: 0.3152\n",
      "\n",
      "╒════════════════╤═════════════╤══════════╤════════════╤═══════════╕\n",
      "│                │   precision │   recall │   f1-score │   support │\n",
      "╞════════════════╪═════════════╪══════════╪════════════╪═══════════╡\n",
      "│ Hate Speech    │        0.83 │     0.79 │       0.81 │       876 │\n",
      "├────────────────┼─────────────┼──────────┼────────────┼───────────┤\n",
      "│ Abusive Speech │        0.82 │     0.81 │       0.82 │       833 │\n",
      "├────────────────┼─────────────┼──────────┼────────────┼───────────┤\n",
      "│ SARA           │        0.68 │     0.5  │       0.58 │       250 │\n",
      "├────────────────┼─────────────┼──────────┼────────────┼───────────┤\n",
      "│ Radicalism     │        0.71 │     0.56 │       0.63 │       326 │\n",
      "├────────────────┼─────────────┼──────────┼────────────┼───────────┤\n",
      "│ Defamation     │        0.67 │     0.61 │       0.64 │       594 │\n",
      "├────────────────┼─────────────┼──────────┼────────────┼───────────┤\n",
      "│ micro avg      │        0.77 │     0.71 │       0.74 │      2879 │\n",
      "├────────────────┼─────────────┼──────────┼────────────┼───────────┤\n",
      "│ macro avg      │        0.74 │     0.65 │       0.69 │      2879 │\n",
      "╘════════════════╧═════════════╧══════════╧════════════╧═══════════╛\n",
      "Hamming Loss: 0.1378\n",
      "Jaccard Score (samples avg): 0.3811\n",
      "Validation Micro F1 improved. Best model updated.\n",
      "\n",
      "=== Epoch 2/10 ===\n",
      "Epoch 2/10, Loss: 0.2970383532452241\n",
      "Validation Loss: 0.2997\n",
      "\n",
      "╒════════════════╤═════════════╤══════════╤════════════╤═══════════╕\n",
      "│                │   precision │   recall │   f1-score │   support │\n",
      "╞════════════════╪═════════════╪══════════╪════════════╪═══════════╡\n",
      "│ Hate Speech    │        0.75 │     0.9  │       0.82 │       876 │\n",
      "├────────────────┼─────────────┼──────────┼────────────┼───────────┤\n",
      "│ Abusive Speech │        0.87 │     0.82 │       0.85 │       833 │\n",
      "├────────────────┼─────────────┼──────────┼────────────┼───────────┤\n",
      "│ SARA           │        0.67 │     0.72 │       0.69 │       250 │\n",
      "├────────────────┼─────────────┼──────────┼────────────┼───────────┤\n",
      "│ Radicalism     │        0.72 │     0.67 │       0.69 │       326 │\n",
      "├────────────────┼─────────────┼──────────┼────────────┼───────────┤\n",
      "│ Defamation     │        0.61 │     0.8  │       0.69 │       594 │\n",
      "├────────────────┼─────────────┼──────────┼────────────┼───────────┤\n",
      "│ micro avg      │        0.74 │     0.82 │       0.77 │      2879 │\n",
      "├────────────────┼─────────────┼──────────┼────────────┼───────────┤\n",
      "│ macro avg      │        0.72 │     0.78 │       0.75 │      2879 │\n",
      "╘════════════════╧═════════════╧══════════╧════════════╧═══════════╛\n",
      "Hamming Loss: 0.1311\n",
      "Jaccard Score (samples avg): 0.4188\n",
      "Validation Micro F1 improved. Best model updated.\n",
      "\n",
      "=== Epoch 3/10 ===\n",
      "Epoch 3/10, Loss: 0.2564540419353252\n",
      "Validation Loss: 0.2792\n",
      "\n",
      "╒════════════════╤═════════════╤══════════╤════════════╤═══════════╕\n",
      "│                │   precision │   recall │   f1-score │   support │\n",
      "╞════════════════╪═════════════╪══════════╪════════════╪═══════════╡\n",
      "│ Hate Speech    │        0.81 │     0.85 │       0.83 │       876 │\n",
      "├────────────────┼─────────────┼──────────┼────────────┼───────────┤\n",
      "│ Abusive Speech │        0.85 │     0.87 │       0.86 │       833 │\n",
      "├────────────────┼─────────────┼──────────┼────────────┼───────────┤\n",
      "│ SARA           │        0.78 │     0.59 │       0.67 │       250 │\n",
      "├────────────────┼─────────────┼──────────┼────────────┼───────────┤\n",
      "│ Radicalism     │        0.73 │     0.67 │       0.7  │       326 │\n",
      "├────────────────┼─────────────┼──────────┼────────────┼───────────┤\n",
      "│ Defamation     │        0.69 │     0.68 │       0.69 │       594 │\n",
      "├────────────────┼─────────────┼──────────┼────────────┼───────────┤\n",
      "│ micro avg      │        0.79 │     0.78 │       0.78 │      2879 │\n",
      "├────────────────┼─────────────┼──────────┼────────────┼───────────┤\n",
      "│ macro avg      │        0.77 │     0.73 │       0.75 │      2879 │\n",
      "╘════════════════╧═════════════╧══════════╧════════════╧═══════════╛\n",
      "Hamming Loss: 0.1192\n",
      "Jaccard Score (samples avg): 0.4196\n",
      "Validation Micro F1 improved. Best model updated.\n",
      "\n",
      "=== Epoch 4/10 ===\n",
      "Epoch 4/10, Loss: 0.2178274267740797\n",
      "Validation Loss: 0.2890\n",
      "\n",
      "╒════════════════╤═════════════╤══════════╤════════════╤═══════════╕\n",
      "│                │   precision │   recall │   f1-score │   support │\n",
      "╞════════════════╪═════════════╪══════════╪════════════╪═══════════╡\n",
      "│ Hate Speech    │        0.82 │     0.85 │       0.83 │       876 │\n",
      "├────────────────┼─────────────┼──────────┼────────────┼───────────┤\n",
      "│ Abusive Speech │        0.86 │     0.86 │       0.86 │       833 │\n",
      "├────────────────┼─────────────┼──────────┼────────────┼───────────┤\n",
      "│ SARA           │        0.8  │     0.58 │       0.67 │       250 │\n",
      "├────────────────┼─────────────┼──────────┼────────────┼───────────┤\n",
      "│ Radicalism     │        0.72 │     0.72 │       0.72 │       326 │\n",
      "├────────────────┼─────────────┼──────────┼────────────┼───────────┤\n",
      "│ Defamation     │        0.71 │     0.66 │       0.69 │       594 │\n",
      "├────────────────┼─────────────┼──────────┼────────────┼───────────┤\n",
      "│ micro avg      │        0.8  │     0.77 │       0.79 │      2879 │\n",
      "├────────────────┼─────────────┼──────────┼────────────┼───────────┤\n",
      "│ macro avg      │        0.78 │     0.73 │       0.75 │      2879 │\n",
      "╘════════════════╧═════════════╧══════════╧════════════╧═══════════╛\n",
      "Hamming Loss: 0.1160\n",
      "Jaccard Score (samples avg): 0.4148\n",
      "Validation Micro F1 improved. Best model updated.\n",
      "\n",
      "=== Epoch 5/10 ===\n",
      "Epoch 5/10, Loss: 0.18965675800183174\n",
      "Validation Loss: 0.2920\n",
      "\n",
      "╒════════════════╤═════════════╤══════════╤════════════╤═══════════╕\n",
      "│                │   precision │   recall │   f1-score │   support │\n",
      "╞════════════════╪═════════════╪══════════╪════════════╪═══════════╡\n",
      "│ Hate Speech    │        0.83 │     0.83 │       0.83 │       876 │\n",
      "├────────────────┼─────────────┼──────────┼────────────┼───────────┤\n",
      "│ Abusive Speech │        0.89 │     0.85 │       0.87 │       833 │\n",
      "├────────────────┼─────────────┼──────────┼────────────┼───────────┤\n",
      "│ SARA           │        0.73 │     0.68 │       0.7  │       250 │\n",
      "├────────────────┼─────────────┼──────────┼────────────┼───────────┤\n",
      "│ Radicalism     │        0.74 │     0.69 │       0.71 │       326 │\n",
      "├────────────────┼─────────────┼──────────┼────────────┼───────────┤\n",
      "│ Defamation     │        0.72 │     0.69 │       0.7  │       594 │\n",
      "├────────────────┼─────────────┼──────────┼────────────┼───────────┤\n",
      "│ micro avg      │        0.81 │     0.78 │       0.79 │      2879 │\n",
      "├────────────────┼─────────────┼──────────┼────────────┼───────────┤\n",
      "│ macro avg      │        0.78 │     0.75 │       0.76 │      2879 │\n",
      "╘════════════════╧═════════════╧══════════╧════════════╧═══════════╛\n",
      "Hamming Loss: 0.1132\n",
      "Jaccard Score (samples avg): 0.4187\n",
      "Validation Micro F1 improved. Best model updated.\n",
      "\n",
      "=== Epoch 6/10 ===\n",
      "Epoch 6/10, Loss: 0.163348769963358\n",
      "Validation Loss: 0.3106\n",
      "\n",
      "╒════════════════╤═════════════╤══════════╤════════════╤═══════════╕\n",
      "│                │   precision │   recall │   f1-score │   support │\n",
      "╞════════════════╪═════════════╪══════════╪════════════╪═══════════╡\n",
      "│ Hate Speech    │        0.8  │     0.88 │       0.84 │       876 │\n",
      "├────────────────┼─────────────┼──────────┼────────────┼───────────┤\n",
      "│ Abusive Speech │        0.85 │     0.89 │       0.87 │       833 │\n",
      "├────────────────┼─────────────┼──────────┼────────────┼───────────┤\n",
      "│ SARA           │        0.71 │     0.7  │       0.7  │       250 │\n",
      "├────────────────┼─────────────┼──────────┼────────────┼───────────┤\n",
      "│ Radicalism     │        0.7  │     0.76 │       0.73 │       326 │\n",
      "├────────────────┼─────────────┼──────────┼────────────┼───────────┤\n",
      "│ Defamation     │        0.69 │     0.72 │       0.7  │       594 │\n",
      "├────────────────┼─────────────┼──────────┼────────────┼───────────┤\n",
      "│ micro avg      │        0.77 │     0.82 │       0.79 │      2879 │\n",
      "├────────────────┼─────────────┼──────────┼────────────┼───────────┤\n",
      "│ macro avg      │        0.75 │     0.79 │       0.77 │      2879 │\n",
      "╘════════════════╧═════════════╧══════════╧════════════╧═══════════╛\n",
      "Hamming Loss: 0.1167\n",
      "Jaccard Score (samples avg): 0.4335\n",
      "Validation Micro F1 improved. Best model updated.\n",
      "\n",
      "=== Epoch 7/10 ===\n",
      "Epoch 7/10, Loss: 0.14731356378769475\n",
      "Validation Loss: 0.3154\n",
      "\n",
      "╒════════════════╤═════════════╤══════════╤════════════╤═══════════╕\n",
      "│                │   precision │   recall │   f1-score │   support │\n",
      "╞════════════════╪═════════════╪══════════╪════════════╪═══════════╡\n",
      "│ Hate Speech    │        0.81 │     0.86 │       0.84 │       876 │\n",
      "├────────────────┼─────────────┼──────────┼────────────┼───────────┤\n",
      "│ Abusive Speech │        0.87 │     0.87 │       0.87 │       833 │\n",
      "├────────────────┼─────────────┼──────────┼────────────┼───────────┤\n",
      "│ SARA           │        0.69 │     0.72 │       0.7  │       250 │\n",
      "├────────────────┼─────────────┼──────────┼────────────┼───────────┤\n",
      "│ Radicalism     │        0.71 │     0.74 │       0.73 │       326 │\n",
      "├────────────────┼─────────────┼──────────┼────────────┼───────────┤\n",
      "│ Defamation     │        0.7  │     0.73 │       0.71 │       594 │\n",
      "├────────────────┼─────────────┼──────────┼────────────┼───────────┤\n",
      "│ micro avg      │        0.78 │     0.81 │       0.8  │      2879 │\n",
      "├────────────────┼─────────────┼──────────┼────────────┼───────────┤\n",
      "│ macro avg      │        0.75 │     0.79 │       0.77 │      2879 │\n",
      "╘════════════════╧═════════════╧══════════╧════════════╧═══════════╛\n",
      "Hamming Loss: 0.1147\n",
      "Jaccard Score (samples avg): 0.4308\n",
      "Validation Micro F1 improved. Best model updated.\n",
      "\n",
      "=== Epoch 8/10 ===\n",
      "Epoch 8/10, Loss: 0.13193307209706479\n",
      "Validation Loss: 0.3247\n",
      "\n",
      "╒════════════════╤═════════════╤══════════╤════════════╤═══════════╕\n",
      "│                │   precision │   recall │   f1-score │   support │\n",
      "╞════════════════╪═════════════╪══════════╪════════════╪═══════════╡\n",
      "│ Hate Speech    │        0.81 │     0.86 │       0.84 │       876 │\n",
      "├────────────────┼─────────────┼──────────┼────────────┼───────────┤\n",
      "│ Abusive Speech │        0.87 │     0.88 │       0.87 │       833 │\n",
      "├────────────────┼─────────────┼──────────┼────────────┼───────────┤\n",
      "│ SARA           │        0.67 │     0.74 │       0.71 │       250 │\n",
      "├────────────────┼─────────────┼──────────┼────────────┼───────────┤\n",
      "│ Radicalism     │        0.7  │     0.75 │       0.72 │       326 │\n",
      "├────────────────┼─────────────┼──────────┼────────────┼───────────┤\n",
      "│ Defamation     │        0.7  │     0.7  │       0.7  │       594 │\n",
      "├────────────────┼─────────────┼──────────┼────────────┼───────────┤\n",
      "│ micro avg      │        0.78 │     0.81 │       0.79 │      2879 │\n",
      "├────────────────┼─────────────┼──────────┼────────────┼───────────┤\n",
      "│ macro avg      │        0.75 │     0.78 │       0.77 │      2879 │\n",
      "╘════════════════╧═════════════╧══════════╧════════════╧═══════════╛\n",
      "Hamming Loss: 0.1157\n",
      "Jaccard Score (samples avg): 0.4309\n",
      "No improvement. Early stopping counter: 1/2\n",
      "\n",
      "=== Epoch 9/10 ===\n",
      "Epoch 9/10, Loss: 0.12181037432340344\n",
      "Validation Loss: 0.3325\n",
      "\n",
      "╒════════════════╤═════════════╤══════════╤════════════╤═══════════╕\n",
      "│                │   precision │   recall │   f1-score │   support │\n",
      "╞════════════════╪═════════════╪══════════╪════════════╪═══════════╡\n",
      "│ Hate Speech    │        0.83 │     0.84 │       0.83 │       876 │\n",
      "├────────────────┼─────────────┼──────────┼────────────┼───────────┤\n",
      "│ Abusive Speech │        0.88 │     0.85 │       0.86 │       833 │\n",
      "├────────────────┼─────────────┼──────────┼────────────┼───────────┤\n",
      "│ SARA           │        0.68 │     0.73 │       0.7  │       250 │\n",
      "├────────────────┼─────────────┼──────────┼────────────┼───────────┤\n",
      "│ Radicalism     │        0.7  │     0.75 │       0.72 │       326 │\n",
      "├────────────────┼─────────────┼──────────┼────────────┼───────────┤\n",
      "│ Defamation     │        0.73 │     0.68 │       0.7  │       594 │\n",
      "├────────────────┼─────────────┼──────────┼────────────┼───────────┤\n",
      "│ micro avg      │        0.79 │     0.79 │       0.79 │      2879 │\n",
      "├────────────────┼─────────────┼──────────┼────────────┼───────────┤\n",
      "│ macro avg      │        0.76 │     0.77 │       0.77 │      2879 │\n",
      "╘════════════════╧═════════════╧══════════╧════════════╧═══════════╛\n",
      "Hamming Loss: 0.1147\n",
      "Jaccard Score (samples avg): 0.4234\n",
      "No improvement. Early stopping counter: 2/2\n",
      "\n",
      "Early stopping triggered. Training terminated.\n"
     ]
    }
   ],
   "source": [
    "for epoch in range(epochs):\n",
    "    print(f\"\\n=== Epoch {epoch + 1}/{epochs} ===\")\n",
    "    model.train()\n",
    "    total_loss = 0\n",
    "    for batch in train_loader:\n",
    "        input_ids, attention_mask, labels = [b.to(device) for b in batch]\n",
    "\n",
    "        # Forward pass\n",
    "        outputs = model(input_ids=input_ids, attention_mask=attention_mask, labels=labels)\n",
    "        loss = outputs.loss\n",
    "        optimizer.zero_grad()\n",
    "\n",
    "        # Backward pass\n",
    "        loss.backward()\n",
    "\n",
    "        # Optimize and weights update\n",
    "        optimizer.step()\n",
    "        scheduler.step()\n",
    "\n",
    "        total_loss += loss.item()\n",
    "\n",
    "    print(f\"Epoch {epoch + 1}/{epochs}, Loss: {total_loss/len(train_loader)}\")\n",
    "\n",
    "    # Validation Process\n",
    "    model.eval()\n",
    "    total_val_loss = 0\n",
    "    val_preds, val_trues = [], []\n",
    "\n",
    "    with torch.no_grad():\n",
    "        for batch in val_loader:\n",
    "            input_ids, attention_mask, labels = [b.to(device) for b in batch]\n",
    "\n",
    "            outputs = model(input_ids=input_ids, attention_mask=attention_mask, labels=labels)\n",
    "            loss = outputs.loss\n",
    "            logits = outputs.logits\n",
    "\n",
    "            total_val_loss += loss.item()\n",
    "            val_preds.append(logits.sigmoid().cpu().numpy())\n",
    "            val_trues.append(labels.cpu().numpy())\n",
    "\n",
    "    avg_val_loss = total_val_loss / len(val_loader)\n",
    "    val_preds = np.concatenate(val_preds, axis=0)\n",
    "    val_trues = np.concatenate(val_trues, axis=0)\n",
    "    val_binary_preds = (val_preds >= 0.5).astype(int)\n",
    "\n",
    "    print(f\"Validation Loss: {avg_val_loss:.4f}\")\n",
    "\n",
    "    # Classification report\n",
    "    report = classification_report(val_trues, val_binary_preds, target_names=category_columns, output_dict=True, zero_division=0)\n",
    "    headers = [\"\", \"precision\", \"recall\", \"f1-score\", \"support\"]\n",
    "    table = []\n",
    "\n",
    "    for label in category_columns:\n",
    "        row = [\n",
    "            label,\n",
    "            f\"{report[label]['precision']:.2f}\",\n",
    "            f\"{report[label]['recall']:.2f}\",\n",
    "            f\"{report[label]['f1-score']:.2f}\",\n",
    "            int(report[label]['support'])\n",
    "        ]\n",
    "        table.append(row)\n",
    "\n",
    "    # Add micro and macro averages\n",
    "    micro_avg = report['micro avg']\n",
    "    macro_avg = report['macro avg']\n",
    "\n",
    "    table.append([\n",
    "        \"micro avg\",\n",
    "        f\"{micro_avg['precision']:.2f}\",\n",
    "        f\"{micro_avg['recall']:.2f}\",\n",
    "        f\"{micro_avg['f1-score']:.2f}\",\n",
    "        int(micro_avg['support'])\n",
    "    ])\n",
    "    table.append([\n",
    "        \"macro avg\",\n",
    "        f\"{macro_avg['precision']:.2f}\",\n",
    "        f\"{macro_avg['recall']:.2f}\",\n",
    "        f\"{macro_avg['f1-score']:.2f}\",\n",
    "        int(macro_avg['support'])\n",
    "    ])\n",
    "\n",
    "    print(\"\\n\" + tabulate(table, headers=headers, tablefmt=\"fancy_grid\"))\n",
    "\n",
    "    # Additional Metrics\n",
    "    print(f\"Hamming Loss: {hamming_loss(val_trues, val_binary_preds):.4f}\")\n",
    "    print(f\"Jaccard Score (samples avg): {jaccard_score(val_trues, val_binary_preds, average='samples', zero_division=0):.4f}\")\n",
    "\n",
    "    # Early Stopping Check (based on Micro F1)\n",
    "    if micro_avg['f1-score'] > best_micro_f1:\n",
    "        best_micro_f1 = micro_avg['f1-score']\n",
    "        best_model_state = model.state_dict()\n",
    "        stopping_counter = 0\n",
    "        print(\"Validation Micro F1 improved. Best model updated.\")\n",
    "    else:\n",
    "        stopping_counter += 1\n",
    "        print(f\"No improvement. Early stopping counter: {stopping_counter}/{patience}\")\n",
    "\n",
    "    if stopping_counter >= patience:\n",
    "        print(\"\\nEarly stopping triggered. Training terminated.\")\n",
    "        break"
   ]
  },
  {
   "cell_type": "markdown",
   "metadata": {},
   "source": [
    "### Evaluation"
   ]
  },
  {
   "cell_type": "code",
   "execution_count": 97,
   "metadata": {},
   "outputs": [],
   "source": [
    "val_binary_preds = (val_preds >= 0.5).astype(int)"
   ]
  },
  {
   "cell_type": "markdown",
   "metadata": {},
   "source": [
    "#### Classification Report"
   ]
  },
  {
   "cell_type": "code",
   "execution_count": 98,
   "metadata": {},
   "outputs": [],
   "source": [
    "# Generate classification report\n",
    "report = classification_report(\n",
    "    val_trues,\n",
    "    val_binary_preds,\n",
    "    target_names=category_columns,\n",
    "    output_dict=True,\n",
    "    zero_division=0\n",
    ")\n",
    "\n",
    "# Build table rows\n",
    "headers = [\"\", \"precision\", \"recall\", \"f1-score\", \"support\"]\n",
    "table = []\n",
    "\n",
    "for label in category_columns:\n",
    "    row = [\n",
    "        label,\n",
    "        f\"{report[label]['precision']:.2f}\",\n",
    "        f\"{report[label]['recall']:.2f}\",\n",
    "        f\"{report[label]['f1-score']:.2f}\",\n",
    "        int(report[label]['support'])\n",
    "    ]\n",
    "    table.append(row)\n",
    "\n",
    "# Add macro & micro averages\n",
    "macro_avg = report[\"macro avg\"]\n",
    "micro_avg = report[\"micro avg\"]\n",
    "\n",
    "table.append([\n",
    "    \"micro avg\",\n",
    "    f\"{micro_avg['precision']:.2f}\",\n",
    "    f\"{micro_avg['recall']:.2f}\",\n",
    "    f\"{micro_avg['f1-score']:.2f}\",\n",
    "    int(micro_avg['support'])\n",
    "])\n",
    "table.append([\n",
    "    \"macro avg\",\n",
    "    f\"{macro_avg['precision']:.2f}\",\n",
    "    f\"{macro_avg['recall']:.2f}\",\n",
    "    f\"{macro_avg['f1-score']:.2f}\",\n",
    "    int(macro_avg['support'])\n",
    "])"
   ]
  },
  {
   "cell_type": "code",
   "execution_count": 99,
   "metadata": {},
   "outputs": [
    {
     "name": "stdout",
     "output_type": "stream",
     "text": [
      "╒════════════════╤═════════════╤══════════╤════════════╤═══════════╕\n",
      "│                │   precision │   recall │   f1-score │   support │\n",
      "╞════════════════╪═════════════╪══════════╪════════════╪═══════════╡\n",
      "│ Hate Speech    │        0.83 │     0.84 │       0.83 │       876 │\n",
      "├────────────────┼─────────────┼──────────┼────────────┼───────────┤\n",
      "│ Abusive Speech │        0.88 │     0.85 │       0.86 │       833 │\n",
      "├────────────────┼─────────────┼──────────┼────────────┼───────────┤\n",
      "│ SARA           │        0.68 │     0.73 │       0.7  │       250 │\n",
      "├────────────────┼─────────────┼──────────┼────────────┼───────────┤\n",
      "│ Radicalism     │        0.7  │     0.75 │       0.72 │       326 │\n",
      "├────────────────┼─────────────┼──────────┼────────────┼───────────┤\n",
      "│ Defamation     │        0.73 │     0.68 │       0.7  │       594 │\n",
      "├────────────────┼─────────────┼──────────┼────────────┼───────────┤\n",
      "│ micro avg      │        0.79 │     0.79 │       0.79 │      2879 │\n",
      "├────────────────┼─────────────┼──────────┼────────────┼───────────┤\n",
      "│ macro avg      │        0.76 │     0.77 │       0.77 │      2879 │\n",
      "╘════════════════╧═════════════╧══════════╧════════════╧═══════════╛\n",
      "Hamming Loss: 0.1147\n",
      "Jaccard Score (samples avg): 0.4234\n"
     ]
    }
   ],
   "source": [
    "print(tabulate(table, headers=headers, tablefmt=\"fancy_grid\"))\n",
    "# Additional Metrics\n",
    "print(f\"Hamming Loss: {hamming_loss(val_trues, val_binary_preds):.4f}\")\n",
    "print(f\"Jaccard Score (samples avg): {jaccard_score(val_trues, val_binary_preds, average='samples', zero_division=0):.4f}\")"
   ]
  },
  {
   "cell_type": "markdown",
   "metadata": {},
   "source": [
    "#### Confusion Matrix"
   ]
  },
  {
   "cell_type": "code",
   "execution_count": 100,
   "metadata": {},
   "outputs": [
    {
     "data": {
      "image/png": "[encoded data removed]",
      "text/plain": [
       "<Figure size 1500x800 with 5 Axes>"
      ]
     },
     "metadata": {},
     "output_type": "display_data"
    }
   ],
   "source": [
    "# Compute confusion matrices for each class\n",
    "conf_matrices = multilabel_confusion_matrix(val_trues, val_binary_preds)\n",
    "\n",
    "# Plot settings\n",
    "n_labels = len(category_columns)\n",
    "cols = 3  # number of plots per row\n",
    "rows = (n_labels + cols - 1) // cols\n",
    "\n",
    "fig, axes = plt.subplots(rows, cols, figsize=(5 * cols, 4 * rows))\n",
    "axes = axes.flatten()\n",
    "\n",
    "for i, (label, matrix) in enumerate(zip(category_columns, conf_matrices)):\n",
    "    tn, fp, fn, tp = matrix.ravel()\n",
    "    cm = [[tp, fp], [fn, tn]]\n",
    "\n",
    "    df_cm = pd.DataFrame(cm, index=[\"Actual Positive\", \"Actual Negative\"], columns=[\"Predicted Positive\", \"Predicted Negative\"])\n",
    "    \n",
    "    sns.heatmap(df_cm, annot=True, fmt=\"d\", cmap=\"Blues\", cbar=False, ax=axes[i])\n",
    "    axes[i].set_title(f\"Confusion Matrix: {label}\")\n",
    "    axes[i].set_ylabel(\"True Label\")\n",
    "    axes[i].set_xlabel(\"Predicted Label\")\n",
    "\n",
    "# Hide unused subplots if any\n",
    "for j in range(i + 1, len(axes)):\n",
    "    fig.delaxes(axes[j])\n",
    "\n",
    "plt.tight_layout()\n",
    "plt.show()"
   ]
  },
  {
   "cell_type": "markdown",
   "metadata": {},
   "source": [
    "## Tuning"
   ]
  },
  {
   "cell_type": "code",
   "execution_count": 79,
   "metadata": {},
   "outputs": [],
   "source": [
    "def find_optimal_thresholds(y_true, y_probs, thresholds=np.arange(0.1, 0.9, 0.05)):\n",
    "    \"\"\"\n",
    "    Finds the best threshold for each label to maximize F1-score.\n",
    "    \"\"\"\n",
    "    best_thresholds = []\n",
    "    \n",
    "    for i in range(y_true.shape[1]):\n",
    "        best_f1 = 0\n",
    "        best_t = 0.5  # default\n",
    "        for t in thresholds:\n",
    "            y_pred = (y_probs[:, i] >= t).astype(int)\n",
    "            score = f1_score(y_true[:, i], y_pred)\n",
    "            if score > best_f1:\n",
    "                best_f1 = score\n",
    "                best_t = t\n",
    "        best_thresholds.append(best_t)\n",
    "    return best_thresholds"
   ]
  },
  {
   "cell_type": "code",
   "execution_count": 94,
   "metadata": {},
   "outputs": [
    {
     "name": "stdout",
     "output_type": "stream",
     "text": [
      "Optimal thresholds per label:\n",
      "Hate Speech: 0.25\n",
      "Abusive Speech: 0.30\n",
      "SARA: 0.60\n",
      "Radicalism: 0.50\n",
      "Defamation: 0.20\n"
     ]
    }
   ],
   "source": [
    "optimal_thresholds = find_optimal_thresholds(val_trues, val_preds)\n",
    "print(\"Optimal thresholds per label:\")\n",
    "for label, t in zip(category_columns, optimal_thresholds):\n",
    "    print(f\"{label}: {t:.2f}\")"
   ]
  },
  {
   "cell_type": "code",
   "execution_count": 95,
   "metadata": {},
   "outputs": [],
   "source": [
    "def apply_thresholds(y_probs, thresholds):\n",
    "    \"\"\"\n",
    "    Apply per-label thresholds to sigmoid predictions.\n",
    "    \"\"\"\n",
    "    return np.array([(row >= thresholds).astype(int) for row in y_probs])\n",
    "\n",
    "# Apply thresholds\n",
    "val_binary_preds = apply_thresholds(val_preds, np.array(optimal_thresholds))"
   ]
  },
  {
   "cell_type": "markdown",
   "metadata": {},
   "source": [
    "### Evaluation"
   ]
  },
  {
   "cell_type": "markdown",
   "metadata": {},
   "source": [
    "#### Classification Report"
   ]
  },
  {
   "cell_type": "code",
   "execution_count": null,
   "metadata": {},
   "outputs": [],
   "source": [
    "# Generate classification report\n",
    "report = classification_report(\n",
    "    val_trues,\n",
    "    val_binary_preds,\n",
    "    target_names=category_columns,\n",
    "    output_dict=True,\n",
    "    zero_division=0\n",
    ")\n",
    "\n",
    "# Build table rows\n",
    "headers = [\"\", \"precision\", \"recall\", \"f1-score\", \"support\"]\n",
    "table = []\n",
    "\n",
    "for label in category_columns:\n",
    "    row = [\n",
    "        label,\n",
    "        f\"{report[label]['precision']:.2f}\",\n",
    "        f\"{report[label]['recall']:.2f}\",\n",
    "        f\"{report[label]['f1-score']:.2f}\",\n",
    "        int(report[label]['support'])\n",
    "    ]\n",
    "    table.append(row)\n",
    "\n",
    "# Add macro & micro averages\n",
    "macro_avg = report[\"macro avg\"]\n",
    "micro_avg = report[\"micro avg\"]\n",
    "\n",
    "table.append([\n",
    "    \"micro avg\",\n",
    "    f\"{micro_avg['precision']:.2f}\",\n",
    "    f\"{micro_avg['recall']:.2f}\",\n",
    "    f\"{micro_avg['f1-score']:.2f}\",\n",
    "    int(micro_avg['support'])\n",
    "])\n",
    "table.append([\n",
    "    \"macro avg\",\n",
    "    f\"{macro_avg['precision']:.2f}\",\n",
    "    f\"{macro_avg['recall']:.2f}\",\n",
    "    f\"{macro_avg['f1-score']:.2f}\",\n",
    "    int(macro_avg['support'])\n",
    "])"
   ]
  },
  {
   "cell_type": "code",
   "execution_count": 88,
   "metadata": {},
   "outputs": [
    {
     "name": "stdout",
     "output_type": "stream",
     "text": [
      "╒════════════════╤═════════════╤══════════╤════════════╤═══════════╕\n",
      "│                │   precision │   recall │   f1-score │   support │\n",
      "╞════════════════╪═════════════╪══════════╪════════════╪═══════════╡\n",
      "│ Hate Speech    │        0.79 │     0.88 │       0.84 │       876 │\n",
      "├────────────────┼─────────────┼──────────┼────────────┼───────────┤\n",
      "│ Abusive Speech │        0.85 │     0.89 │       0.87 │       833 │\n",
      "├────────────────┼─────────────┼──────────┼────────────┼───────────┤\n",
      "│ SARA           │        0.71 │     0.71 │       0.71 │       250 │\n",
      "├────────────────┼─────────────┼──────────┼────────────┼───────────┤\n",
      "│ Radicalism     │        0.7  │     0.75 │       0.72 │       326 │\n",
      "├────────────────┼─────────────┼──────────┼────────────┼───────────┤\n",
      "│ Defamation     │        0.64 │     0.8  │       0.71 │       594 │\n",
      "├────────────────┼─────────────┼──────────┼────────────┼───────────┤\n",
      "│ micro avg      │        0.76 │     0.84 │       0.8  │      2879 │\n",
      "├────────────────┼─────────────┼──────────┼────────────┼───────────┤\n",
      "│ macro avg      │        0.74 │     0.81 │       0.77 │      2879 │\n",
      "╘════════════════╧═════════════╧══════════╧════════════╧═══════════╛\n",
      "Hamming Loss: 0.1185\n",
      "Jaccard Score (samples avg): 0.4367\n"
     ]
    }
   ],
   "source": [
    "print(tabulate(table, headers=headers, tablefmt=\"fancy_grid\"))\n",
    "# Additional Metrics\n",
    "print(f\"Hamming Loss: {hamming_loss(val_trues, val_binary_preds):.4f}\")\n",
    "print(f\"Jaccard Score (samples avg): {jaccard_score(val_trues, val_binary_preds, average='samples', zero_division=0):.4f}\")"
   ]
  },
  {
   "cell_type": "markdown",
   "metadata": {},
   "source": [
    "#### Confusion Matrix"
   ]
  },
  {
   "cell_type": "code",
   "execution_count": 96,
   "metadata": {},
   "outputs": [
    {
     "data": {
      "image/png": "[encoded data removed]",
      "text/plain": [
       "<Figure size 1500x800 with 5 Axes>"
      ]
     },
     "metadata": {},
     "output_type": "display_data"
    }
   ],
   "source": [
    "# Compute confusion matrices for each class\n",
    "conf_matrices = multilabel_confusion_matrix(val_trues, val_binary_preds)\n",
    "\n",
    "# Plot settings\n",
    "n_labels = len(category_columns)\n",
    "cols = 3  # number of plots per row\n",
    "rows = (n_labels + cols - 1) // cols\n",
    "\n",
    "fig, axes = plt.subplots(rows, cols, figsize=(5 * cols, 4 * rows))\n",
    "axes = axes.flatten()\n",
    "\n",
    "for i, (label, matrix) in enumerate(zip(category_columns, conf_matrices)):\n",
    "    tn, fp, fn, tp = matrix.ravel()\n",
    "    cm = [[tp, fp], [fn, tn]]\n",
    "\n",
    "    df_cm = pd.DataFrame(cm, index=[\"Actual Positive\", \"Actual Negative\"], columns=[\"Predicted Positive\", \"Predicted Negative\"])\n",
    "    \n",
    "    sns.heatmap(df_cm, annot=True, fmt=\"d\", cmap=\"Blues\", cbar=False, ax=axes[i])\n",
    "    axes[i].set_title(f\"Confusion Matrix: {label}\")\n",
    "    axes[i].set_ylabel(\"True Label\")\n",
    "    axes[i].set_xlabel(\"Predicted Label\")\n",
    "\n",
    "# Hide unused subplots if any\n",
    "for j in range(i + 1, len(axes)):\n",
    "    fig.delaxes(axes[j])\n",
    "\n",
    "plt.tight_layout()\n",
    "plt.show()"
   ]
  },
  {
   "cell_type": "markdown",
   "metadata": {},
   "source": [
    "# Testing"
   ]
  },
  {
   "cell_type": "markdown",
   "metadata": {},
   "source": [
    "## Load"
   ]
  },
  {
   "cell_type": "code",
   "execution_count": 3,
   "metadata": {},
   "outputs": [
    {
     "name": "stderr",
     "output_type": "stream",
     "text": [
      "C:\\Users\\Radit1812\\AppData\\Local\\Temp\\ipykernel_19016\\1629377684.py:1: FutureWarning: You are using `torch.load` with `weights_only=False` (the current default value), which uses the default pickle module implicitly. It is possible to construct malicious pickle data which will execute arbitrary code during unpickling (See https://github.com/pytorch/pytorch/blob/main/SECURITY.md#untrusted-models for more details). In a future release, the default value for `weights_only` will be flipped to `True`. This limits the functions that could be executed during unpickling. Arbitrary objects will no longer be allowed to be loaded via this mode unless they are explicitly allowlisted by the user via `torch.serialization.add_safe_globals`. We recommend you start setting `weights_only=True` for any use case where you don't have full control of the loaded file. Please open an issue on GitHub for any issues related to this experimental feature.\n",
      "  model = torch.load(\"model-export/model.pth\")\n"
     ]
    }
   ],
   "source": [
    "model = torch.load(\"model-export/model.pth\")\n",
    "tokenizer = BertTokenizer.from_pretrained(\"model-export\")"
   ]
  },
  {
   "cell_type": "code",
   "execution_count": 4,
   "metadata": {},
   "outputs": [],
   "source": [
    "category_columns = ['Hate Speech', 'Abusive Speech', 'SARA', 'Radicalism', 'Defamation']"
   ]
  },
  {
   "cell_type": "code",
   "execution_count": null,
   "metadata": {},
   "outputs": [],
   "source": [
    "def apply_thresholds(y_probs, thresholds):\n",
    "    \"\"\"\n",
    "    Apply per-label thresholds to sigmoid predictions.\n",
    "    \"\"\"\n",
    "    return np.array([(row >= thresholds).astype(int) for row in y_probs])"
   ]
  },
  {
   "cell_type": "code",
   "execution_count": 9,
   "metadata": {},
   "outputs": [],
   "source": [
    "def predict(sentences, use_smoothed_threshold=False):\n",
    "    inputs = tokenizer(sentences, padding=True, truncation=True, return_tensors=\"pt\", max_length=128)\n",
    "\n",
    "    with torch.no_grad():\n",
    "        outputs = model(**inputs)\n",
    "        probs = torch.sigmoid(outputs.logits).cpu().numpy()\n",
    "\n",
    "    if use_smoothed_threshold:\n",
    "        binary_preds = apply_thresholds(probs, np.array(optimal_thresholds))  # You must define this\n",
    "    else:\n",
    "        binary_preds = (probs >= 0.5).astype(int)\n",
    "\n",
    "    return binary_preds, probs"
   ]
  },
  {
   "cell_type": "code",
   "execution_count": 10,
   "metadata": {},
   "outputs": [],
   "source": [
    "test_df = pd.read_csv(\"data/test.csv\")"
   ]
  },
  {
   "cell_type": "code",
   "execution_count": 11,
   "metadata": {},
   "outputs": [
    {
     "ename": "NameError",
     "evalue": "name 'apply_thresholds' is not defined",
     "output_type": "error",
     "traceback": [
      "\u001b[1;31m---------------------------------------------------------------------------\u001b[0m",
      "\u001b[1;31mNameError\u001b[0m                                 Traceback (most recent call last)",
      "Cell \u001b[1;32mIn[11], line 6\u001b[0m\n\u001b[0;32m      3\u001b[0m y_true \u001b[38;5;241m=\u001b[39m test_df[category_columns]\u001b[38;5;241m.\u001b[39mvalues\n\u001b[0;32m      5\u001b[0m \u001b[38;5;66;03m# Predict\u001b[39;00m\n\u001b[1;32m----> 6\u001b[0m y_pred, _ \u001b[38;5;241m=\u001b[39m \u001b[43mpredict\u001b[49m\u001b[43m(\u001b[49m\u001b[43mtexts\u001b[49m\u001b[43m,\u001b[49m\u001b[43m \u001b[49m\u001b[43muse_smoothed_threshold\u001b[49m\u001b[38;5;241;43m=\u001b[39;49m\u001b[38;5;28;43;01mTrue\u001b[39;49;00m\u001b[43m)\u001b[49m\n",
      "Cell \u001b[1;32mIn[9], line 9\u001b[0m, in \u001b[0;36mpredict\u001b[1;34m(sentences, use_smoothed_threshold)\u001b[0m\n\u001b[0;32m      6\u001b[0m     probs \u001b[38;5;241m=\u001b[39m torch\u001b[38;5;241m.\u001b[39msigmoid(outputs\u001b[38;5;241m.\u001b[39mlogits)\u001b[38;5;241m.\u001b[39mcpu()\u001b[38;5;241m.\u001b[39mnumpy()\n\u001b[0;32m      8\u001b[0m \u001b[38;5;28;01mif\u001b[39;00m use_smoothed_threshold:\n\u001b[1;32m----> 9\u001b[0m     binary_preds \u001b[38;5;241m=\u001b[39m \u001b[43mapply_thresholds\u001b[49m(probs, np\u001b[38;5;241m.\u001b[39marray(optimal_thresholds))  \u001b[38;5;66;03m# You must define this\u001b[39;00m\n\u001b[0;32m     10\u001b[0m \u001b[38;5;28;01melse\u001b[39;00m:\n\u001b[0;32m     11\u001b[0m     binary_preds \u001b[38;5;241m=\u001b[39m (probs \u001b[38;5;241m>\u001b[39m\u001b[38;5;241m=\u001b[39m \u001b[38;5;241m0.5\u001b[39m)\u001b[38;5;241m.\u001b[39mastype(\u001b[38;5;28mint\u001b[39m)\n",
      "\u001b[1;31mNameError\u001b[0m: name 'apply_thresholds' is not defined"
     ]
    }
   ],
   "source": [
    "# Prepare data\n",
    "texts = test_df[\"Text\"].tolist()\n",
    "y_true = test_df[category_columns].values\n",
    "\n",
    "# Predict\n",
    "y_pred, _ = predict(texts, use_smoothed_threshold=True)"
   ]
  },
  {
   "cell_type": "markdown",
   "metadata": {},
   "source": [
    "## Classification Report"
   ]
  },
  {
   "cell_type": "code",
   "execution_count": 17,
   "metadata": {},
   "outputs": [],
   "source": [
    "# Generate classification report\n",
    "report = classification_report(\n",
    "    y_true,\n",
    "    y_pred,\n",
    "    target_names=category_columns,\n",
    "    output_dict=True,\n",
    "    zero_division=0\n",
    ")\n",
    "\n",
    "# Build table rows\n",
    "headers = [\"\", \"precision\", \"recall\", \"f1-score\", \"support\"]\n",
    "table = []\n",
    "\n",
    "for label in category_columns:\n",
    "    row = [\n",
    "        label,\n",
    "        f\"{report[label]['precision']:.2f}\",\n",
    "        f\"{report[label]['recall']:.2f}\",\n",
    "        f\"{report[label]['f1-score']:.2f}\",\n",
    "        int(report[label]['support'])\n",
    "    ]\n",
    "    table.append(row)\n",
    "\n",
    "# Add macro & micro averages\n",
    "macro_avg = report[\"macro avg\"]\n",
    "micro_avg = report[\"micro avg\"]\n",
    "\n",
    "table.append([\n",
    "    \"micro avg\",\n",
    "    f\"{micro_avg['precision']:.2f}\",\n",
    "    f\"{micro_avg['recall']:.2f}\",\n",
    "    f\"{micro_avg['f1-score']:.2f}\",\n",
    "    int(micro_avg['support'])\n",
    "])\n",
    "table.append([\n",
    "    \"macro avg\",\n",
    "    f\"{macro_avg['precision']:.2f}\",\n",
    "    f\"{macro_avg['recall']:.2f}\",\n",
    "    f\"{macro_avg['f1-score']:.2f}\",\n",
    "    int(macro_avg['support'])\n",
    "])"
   ]
  },
  {
   "cell_type": "code",
   "execution_count": 18,
   "metadata": {},
   "outputs": [
    {
     "name": "stdout",
     "output_type": "stream",
     "text": [
      "╒════════════════╤═════════════╤══════════╤════════════╤═══════════╕\n",
      "│                │   precision │   recall │   f1-score │   support │\n",
      "╞════════════════╪═════════════╪══════════╪════════════╪═══════════╡\n",
      "│ Hate Speech    │        0.82 │     0.79 │       0.8  │       877 │\n",
      "├────────────────┼─────────────┼──────────┼────────────┼───────────┤\n",
      "│ Abusive Speech │        0.88 │     0.85 │       0.86 │       834 │\n",
      "├────────────────┼─────────────┼──────────┼────────────┼───────────┤\n",
      "│ SARA           │        0.66 │     0.66 │       0.66 │       250 │\n",
      "├────────────────┼─────────────┼──────────┼────────────┼───────────┤\n",
      "│ Radicalism     │        0.74 │     0.72 │       0.73 │       326 │\n",
      "├────────────────┼─────────────┼──────────┼────────────┼───────────┤\n",
      "│ Defamation     │        0.74 │     0.68 │       0.71 │       604 │\n",
      "├────────────────┼─────────────┼──────────┼────────────┼───────────┤\n",
      "│ micro avg      │        0.8  │     0.76 │       0.78 │      2891 │\n",
      "├────────────────┼─────────────┼──────────┼────────────┼───────────┤\n",
      "│ macro avg      │        0.77 │     0.74 │       0.75 │      2891 │\n",
      "╘════════════════╧═════════════╧══════════╧════════════╧═══════════╛\n",
      "Hamming Loss: 0.1189\n",
      "Jaccard Score (samples avg): 0.4113\n"
     ]
    }
   ],
   "source": [
    "print(tabulate(table, headers=headers, tablefmt=\"fancy_grid\"))\n",
    "# Additional Metrics\n",
    "print(f\"Hamming Loss: {hamming_loss(y_true, y_pred):.4f}\")\n",
    "print(f\"Jaccard Score (samples avg): {jaccard_score(y_true, y_pred, average='samples', zero_division=0):.4f}\")"
   ]
  },
  {
   "cell_type": "markdown",
   "metadata": {},
   "source": [
    "## One Sentence"
   ]
  },
  {
   "cell_type": "code",
   "execution_count": 12,
   "metadata": {},
   "outputs": [],
   "source": [
    "thresholds = {\n",
    "    'Hate Speech': 0.25,\n",
    "    'Abusive Speech': 0.30,\n",
    "    'SARA': 0.60,\n",
    "    'Radicalism': 0.50,\n",
    "    'Defamation': 0.20\n",
    "}"
   ]
  },
  {
   "cell_type": "code",
   "execution_count": null,
   "metadata": {},
   "outputs": [],
   "source": [
    "def predict_labels(text):\n",
    "    model.eval()\n",
    "    \n",
    "    inputs = tokenizer(\n",
    "        text, padding=True, truncation=True, max_length=128, return_tensors=\"pt\"\n",
    "    )\n",
    "    with torch.no_grad():\n",
    "        outputs = model(**inputs)\n",
    "        probabilities = torch.sigmoid(outputs.logits).squeeze().numpy()\n",
    "\n",
    "    # Apply category-specific thresholds\n",
    "    for i, prob in enumerate(probabilities):\n",
    "        category = category_columns[i]\n",
    "        if prob >= thresholds[category]:\n",
    "            print(f\"{category}: {prob} (True)\")\n",
    "        else:\n",
    "            print(f\"{category}: {prob} (False)\")\n"
   ]
  },
  {
   "cell_type": "code",
   "execution_count": 24,
   "metadata": {},
   "outputs": [
    {
     "name": "stdout",
     "output_type": "stream",
     "text": [
      "Hate Speech: 0.9874304533004761 True\n",
      "Abusive Speech: 0.9940371513366699 True\n",
      "SARA: 0.011785131879150867 False\n",
      "Radicalism: 0.006734331138432026 False\n",
      "Defamation: 0.9910253286361694 True\n"
     ]
    }
   ],
   "source": [
    "custom_sentences = [\n",
    "    \"heh kontol jan sok mes rp muka memek orang tua monyet agama aje agama kontol\",\n",
    "]\n",
    "\n",
    "# Use either standard or smoothed threshold\n",
    "predict_labels(custom_sentences)"
   ]
  },
  {
   "cell_type": "markdown",
   "metadata": {},
   "source": [
    "Optimal thresholds per label:\n",
    "Hate Speech: 0.25\n",
    "Abusive Speech: 0.30\n",
    "SARA: 0.60\n",
    "Radicalism: 0.50\n",
    "Defamation: 0.20"
   ]
  },
  {
   "cell_type": "markdown",
   "metadata": {},
   "source": [
    "## Export Model"
   ]
  },
  {
   "cell_type": "code",
   "execution_count": 101,
   "metadata": {},
   "outputs": [
    {
     "data": {
      "text/plain": [
       "('./model-export\\\\tokenizer_config.json',\n",
       " './model-export\\\\special_tokens_map.json',\n",
       " './model-export\\\\vocab.txt',\n",
       " './model-export\\\\added_tokens.json')"
      ]
     },
     "execution_count": 101,
     "metadata": {},
     "output_type": "execute_result"
    }
   ],
   "source": [
    "output_dir = \"./model-export\"\n",
    "torch.save(model, f\"{output_dir}/model.pth\")\n",
    "tokenizer.save_pretrained(output_dir)"
   ]
  }
 ],
 "metadata": {
  "kernelspec": {
   "display_name": ".venv",
   "language": "python",
   "name": "python3"
  },
  "language_info": {
   "codemirror_mode": {
    "name": "ipython",
    "version": 3
   },
   "file_extension": ".py",
   "mimetype": "text/x-python",
   "name": "python",
   "nbconvert_exporter": "python",
   "pygments_lexer": "ipython3",
   "version": "3.11.3"
  }
 },
 "nbformat": 4,
 "nbformat_minor": 2
}
